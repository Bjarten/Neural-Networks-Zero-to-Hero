{
 "cells": [
  {
   "cell_type": "code",
   "execution_count": 1,
   "metadata": {},
   "outputs": [],
   "source": [
    "import math\n",
    "import numpy as np\n",
    "import matplotlib.pyplot as plt\n",
    "%matplotlib inline"
   ]
  },
  {
   "cell_type": "code",
   "execution_count": 2,
   "metadata": {},
   "outputs": [],
   "source": [
    "def f(x):\n",
    "    return 3*x**2 - 4*x + 5"
   ]
  },
  {
   "cell_type": "code",
   "execution_count": 3,
   "metadata": {},
   "outputs": [
    {
     "data": {
      "text/plain": [
       "20.0"
      ]
     },
     "execution_count": 3,
     "metadata": {},
     "output_type": "execute_result"
    }
   ],
   "source": [
    "f(3.0)"
   ]
  },
  {
   "cell_type": "code",
   "execution_count": 4,
   "metadata": {},
   "outputs": [
    {
     "data": {
      "text/plain": [
       "[<matplotlib.lines.Line2D at 0x7f92fd93edd8>]"
      ]
     },
     "execution_count": 4,
     "metadata": {},
     "output_type": "execute_result"
    },
    {
     "data": {
      "image/png": "[encoded data removed]",
      "text/plain": [
       "<Figure size 432x288 with 1 Axes>"
      ]
     },
     "metadata": {
      "needs_background": "light"
     },
     "output_type": "display_data"
    }
   ],
   "source": [
    "xs = np.arange(-5, 5, 0.25)\n",
    "ys = f(xs)\n",
    "plt.plot(xs, ys)"
   ]
  },
  {
   "cell_type": "code",
   "execution_count": 5,
   "metadata": {},
   "outputs": [
    {
     "data": {
      "text/plain": [
       "array([-5.  , -4.75, -4.5 , -4.25, -4.  , -3.75, -3.5 , -3.25, -3.  ,\n",
       "       -2.75, -2.5 , -2.25, -2.  , -1.75, -1.5 , -1.25, -1.  , -0.75,\n",
       "       -0.5 , -0.25,  0.  ,  0.25,  0.5 ,  0.75,  1.  ,  1.25,  1.5 ,\n",
       "        1.75,  2.  ,  2.25,  2.5 ,  2.75,  3.  ,  3.25,  3.5 ,  3.75,\n",
       "        4.  ,  4.25,  4.5 ,  4.75])"
      ]
     },
     "execution_count": 5,
     "metadata": {},
     "output_type": "execute_result"
    }
   ],
   "source": [
    "xs"
   ]
  },
  {
   "cell_type": "code",
   "execution_count": 6,
   "metadata": {
    "scrolled": true
   },
   "outputs": [
    {
     "data": {
      "text/plain": [
       "array([100.    ,  91.6875,  83.75  ,  76.1875,  69.    ,  62.1875,\n",
       "        55.75  ,  49.6875,  44.    ,  38.6875,  33.75  ,  29.1875,\n",
       "        25.    ,  21.1875,  17.75  ,  14.6875,  12.    ,   9.6875,\n",
       "         7.75  ,   6.1875,   5.    ,   4.1875,   3.75  ,   3.6875,\n",
       "         4.    ,   4.6875,   5.75  ,   7.1875,   9.    ,  11.1875,\n",
       "        13.75  ,  16.6875,  20.    ,  23.6875,  27.75  ,  32.1875,\n",
       "        37.    ,  42.1875,  47.75  ,  53.6875])"
      ]
     },
     "execution_count": 6,
     "metadata": {},
     "output_type": "execute_result"
    }
   ],
   "source": [
    "ys"
   ]
  },
  {
   "cell_type": "code",
   "execution_count": 7,
   "metadata": {
    "scrolled": false
   },
   "outputs": [
    {
     "data": {
      "text/plain": [
       "14.000178794049134"
      ]
     },
     "execution_count": 7,
     "metadata": {},
     "output_type": "execute_result"
    }
   ],
   "source": [
    "h = 0.00000000001\n",
    "x = 3.0\n",
    "(f(x + h) - f(x))/h"
   ]
  },
  {
   "cell_type": "markdown",
   "metadata": {},
   "source": [
    "The derivative of 3*x**2 - 4*x + 5 is 6x - 4. 6*3-4=14"
   ]
  },
  {
   "cell_type": "code",
   "execution_count": 8,
   "metadata": {},
   "outputs": [
    {
     "data": {
      "text/plain": [
       "-21.999824184604222"
      ]
     },
     "execution_count": 8,
     "metadata": {},
     "output_type": "execute_result"
    }
   ],
   "source": [
    "h = 0.00000000001\n",
    "x = -3.0\n",
    "(f(x + h) - f(x))/h"
   ]
  },
  {
   "cell_type": "code",
   "execution_count": 9,
   "metadata": {
    "scrolled": false
   },
   "outputs": [
    {
     "data": {
      "text/plain": [
       "0.0"
      ]
     },
     "execution_count": 9,
     "metadata": {},
     "output_type": "execute_result"
    }
   ],
   "source": [
    "h = 0.00000000001\n",
    "x = 2/3\n",
    "(f(x + h) - f(x))/h"
   ]
  },
  {
   "cell_type": "markdown",
   "metadata": {},
   "source": [
    "Let's get more complex"
   ]
  },
  {
   "cell_type": "code",
   "execution_count": 10,
   "metadata": {},
   "outputs": [
    {
     "name": "stdout",
     "output_type": "stream",
     "text": [
      "4.0\n"
     ]
    }
   ],
   "source": [
    "a = 2.0\n",
    "b = -3.0\n",
    "c = 10.0\n",
    "d = a*b + c\n",
    "print(d)"
   ]
  },
  {
   "cell_type": "markdown",
   "metadata": {},
   "source": [
    "Let's look at the derivatives"
   ]
  },
  {
   "cell_type": "code",
   "execution_count": 11,
   "metadata": {},
   "outputs": [
    {
     "name": "stdout",
     "output_type": "stream",
     "text": [
      "d1 4.0\n",
      "d2 3.999699999999999\n",
      "slope -3.000000000010772\n"
     ]
    }
   ],
   "source": [
    "# The derivative of d with respect to a is d'=b\n",
    "\n",
    "h = 0.0001\n",
    "\n",
    "a = 2.0\n",
    "b = -3.0\n",
    "c = 10.0\n",
    "d = a*b + c\n",
    "\n",
    "\n",
    "d1 = a*b + c\n",
    "a += h\n",
    "d2 = a*b + c\n",
    "\n",
    "print('d1', d1)\n",
    "print('d2', d2)\n",
    "print('slope', (d2-d1)/h)"
   ]
  },
  {
   "cell_type": "code",
   "execution_count": 12,
   "metadata": {},
   "outputs": [
    {
     "name": "stdout",
     "output_type": "stream",
     "text": [
      "d1 4.0\n",
      "d2 4.0002\n",
      "slope 2.0000000000042206\n"
     ]
    }
   ],
   "source": [
    "# The derivative of d with respect to b is d'=a\n",
    "\n",
    "h = 0.0001\n",
    "\n",
    "a = 2.0\n",
    "b = -3.0\n",
    "c = 10.0\n",
    "d = a*b + c\n",
    "\n",
    "\n",
    "d1 = a*b + c\n",
    "b += h\n",
    "d2 = a*b + c\n",
    "\n",
    "print('d1', d1)\n",
    "print('d2', d2)\n",
    "print('slope', (d2-d1)/h)"
   ]
  },
  {
   "cell_type": "code",
   "execution_count": 13,
   "metadata": {},
   "outputs": [
    {
     "name": "stdout",
     "output_type": "stream",
     "text": [
      "d1 4.0\n",
      "d2 4.0001\n",
      "slope 0.9999999999976694\n"
     ]
    }
   ],
   "source": [
    "# The derivative of d with respect to c is d'=1\n",
    "\n",
    "h = 0.0001\n",
    "\n",
    "a = 2.0\n",
    "b = -3.0\n",
    "c = 10.0\n",
    "d = a*b + c\n",
    "\n",
    "\n",
    "d1 = a*b + c\n",
    "c += h\n",
    "d2 = a*b + c\n",
    "\n",
    "print('d1', d1)\n",
    "print('d2', d2)\n",
    "print('slope', (d2-d1)/h)"
   ]
  },
  {
   "cell_type": "markdown",
   "metadata": {},
   "source": [
    "## Building out Micrograd"
   ]
  },
  {
   "cell_type": "code",
   "execution_count": 14,
   "metadata": {},
   "outputs": [
    {
     "name": "stdout",
     "output_type": "stream",
     "text": [
      "Value(data=-1.0)\n",
      "Value(data=-6.0)\n",
      "Value(data=4.0)\n",
      "Value(data=4.0)\n"
     ]
    }
   ],
   "source": [
    "class Value:\n",
    "    def __init__(self, data, _children=(), _op='', label=''):\n",
    "        self.data = data\n",
    "        self.grad = 0.0\n",
    "        self._prev = set(_children)\n",
    "        self._op = _op\n",
    "        self.label = label \n",
    "\n",
    "    def __repr__(self):\n",
    "        return f\"Value(data={self.data})\"\n",
    "    \n",
    "    def __add__(self, other):\n",
    "        out = Value(self.data + other.data, (self, other), '+')\n",
    "        return out\n",
    "    \n",
    "    def __mul__(self, other):\n",
    "        out = Value(self.data * other.data, (self, other), '*')\n",
    "        return out\n",
    "\n",
    "a = Value(2.0, label='a')\n",
    "b = Value(-3.0, label='b')\n",
    "c = Value(10.0, label='c')\n",
    "e = a*b; e.label = 'e'\n",
    "d = e + c; d.label = 'd'\n",
    "f = Value(-2.0, label = 'f')\n",
    "L = d * f; L.label = 'L'\n",
    "\n",
    "print(a + b)\n",
    "print(a * b)\n",
    "print(a*b + c)\n",
    "print((a.__mul__(b)).__add__(c))"
   ]
  },
  {
   "cell_type": "code",
   "execution_count": 15,
   "metadata": {},
   "outputs": [
    {
     "data": {
      "text/plain": [
       "{Value(data=-6.0), Value(data=10.0)}"
      ]
     },
     "execution_count": 15,
     "metadata": {},
     "output_type": "execute_result"
    }
   ],
   "source": [
    "d._prev"
   ]
  },
  {
   "cell_type": "code",
   "execution_count": 16,
   "metadata": {},
   "outputs": [
    {
     "data": {
      "text/plain": [
       "'+'"
      ]
     },
     "execution_count": 16,
     "metadata": {},
     "output_type": "execute_result"
    }
   ],
   "source": [
    "d._op"
   ]
  },
  {
   "cell_type": "code",
   "execution_count": 19,
   "metadata": {},
   "outputs": [],
   "source": [
    "#brew install graphviz\n",
    "#pip install graphviz\n",
    "from graphviz import Digraph\n",
    "\n",
    "def trace(root):\n",
    "    nodes, edges = set(), set()\n",
    "    def build(v):\n",
    "        if v not in nodes:\n",
    "            nodes.add(v)\n",
    "            for child in v._prev:\n",
    "                edges.add((child, v))\n",
    "                build(child)\n",
    "    build(root)\n",
    "    return nodes, edges\n",
    "\n",
    "def draw_dot(root):\n",
    "    nodes, edges = trace(root)\n",
    "    dot = Digraph(format='svg', graph_attr={'rankdir': 'LR'}) # LR = left to right\n",
    "    \n",
    "    for n in nodes:\n",
    "        uid = str(id(n))\n",
    "        \n",
    "        dot.node(name=str(id(n)), label = \"{  %s | data %.4f | grad %.4f }\" % (n.label, n.data, n.grad), shape='record')\n",
    "        if n._op:\n",
    "            dot.node(name=uid + n._op, label=n._op)\n",
    "            dot.edge(uid + n._op, uid)\n",
    "    \n",
    "    for n1, n2 in edges:\n",
    "        dot.edge(str(id(n1)), str(id(n2)) + n2._op)\n",
    "    \n",
    "    return dot"
   ]
  },
  {
   "cell_type": "code",
   "execution_count": 20,
   "metadata": {},
   "outputs": [
    {
     "data": {
      "image/svg+xml": [
       "<?xml version=\"1.0\" encoding=\"UTF-8\" standalone=\"no\"?>\n",
       "<!DOCTYPE svg PUBLIC \"-//W3C//DTD SVG 1.1//EN\"\n",
       " \"http://www.w3.org/Graphics/SVG/1.1/DTD/svg11.dtd\">\n",
       "<!-- Generated by graphviz version 9.0.0 (20230911.1827)\n",
       " -->\n",
       "<!-- Pages: 1 -->\n",
       "<svg width=\"1140pt\" height=\"154pt\"\n",
       " viewBox=\"0.00 0.00 1139.75 154.00\" xmlns=\"http://www.w3.org/2000/svg\" xmlns:xlink=\"http://www.w3.org/1999/xlink\">\n",
       "<g id=\"graph0\" class=\"graph\" transform=\"scale(1 1) rotate(0) translate(4 150)\">\n",
       "<polygon fill=\"white\" stroke=\"none\" points=\"-4,4 -4,-150 1135.75,-150 1135.75,4 -4,4\"/>\n",
       "<!-- 140269297326176 -->\n",
       "<g id=\"node1\" class=\"node\">\n",
       "<title>140269297326176</title>\n",
       "<polygon fill=\"none\" stroke=\"black\" points=\"315.38,-27.5 315.38,-63.5 502.88,-63.5 502.88,-27.5 315.38,-27.5\"/>\n",
       "<text text-anchor=\"middle\" x=\"326.38\" y=\"-40.7\" font-family=\"Times,serif\" font-size=\"14.00\">e</text>\n",
       "<polyline fill=\"none\" stroke=\"black\" points=\"337.38,-28 337.38,-63.5\"/>\n",
       "<text text-anchor=\"middle\" x=\"379.5\" y=\"-40.7\" font-family=\"Times,serif\" font-size=\"14.00\">data &#45;6.0000</text>\n",
       "<polyline fill=\"none\" stroke=\"black\" points=\"421.62,-28 421.62,-63.5\"/>\n",
       "<text text-anchor=\"middle\" x=\"462.25\" y=\"-40.7\" font-family=\"Times,serif\" font-size=\"14.00\">grad 0.0000</text>\n",
       "</g>\n",
       "<!-- 140269297326288+ -->\n",
       "<g id=\"node6\" class=\"node\">\n",
       "<title>140269297326288+</title>\n",
       "<ellipse fill=\"none\" stroke=\"black\" cx=\"567\" cy=\"-72.5\" rx=\"27\" ry=\"18\"/>\n",
       "<text text-anchor=\"middle\" x=\"567\" y=\"-67.45\" font-family=\"Times,serif\" font-size=\"14.00\">+</text>\n",
       "</g>\n",
       "<!-- 140269297326176&#45;&gt;140269297326288+ -->\n",
       "<g id=\"edge8\" class=\"edge\">\n",
       "<title>140269297326176&#45;&gt;140269297326288+</title>\n",
       "<path fill=\"none\" stroke=\"black\" d=\"M503.05,-61.6C512.25,-63.19 521.16,-64.73 529.24,-66.13\"/>\n",
       "<polygon fill=\"black\" stroke=\"black\" points=\"528.48,-69.55 538.93,-67.81 529.68,-62.66 528.48,-69.55\"/>\n",
       "</g>\n",
       "<!-- 140269297326176* -->\n",
       "<g id=\"node2\" class=\"node\">\n",
       "<title>140269297326176*</title>\n",
       "<ellipse fill=\"none\" stroke=\"black\" cx=\"251.25\" cy=\"-45.5\" rx=\"27\" ry=\"18\"/>\n",
       "<text text-anchor=\"middle\" x=\"251.25\" y=\"-40.45\" font-family=\"Times,serif\" font-size=\"14.00\">*</text>\n",
       "</g>\n",
       "<!-- 140269297326176*&#45;&gt;140269297326176 -->\n",
       "<g id=\"edge1\" class=\"edge\">\n",
       "<title>140269297326176*&#45;&gt;140269297326176</title>\n",
       "<path fill=\"none\" stroke=\"black\" d=\"M278.69,-45.5C286.1,-45.5 294.64,-45.5 303.71,-45.5\"/>\n",
       "<polygon fill=\"black\" stroke=\"black\" points=\"303.51,-49 313.51,-45.5 303.51,-42 303.51,-49\"/>\n",
       "</g>\n",
       "<!-- 140269297326232 -->\n",
       "<g id=\"node3\" class=\"node\">\n",
       "<title>140269297326232</title>\n",
       "<polygon fill=\"none\" stroke=\"black\" points=\"942,-81.5 942,-117.5 1131.75,-117.5 1131.75,-81.5 942,-81.5\"/>\n",
       "<text text-anchor=\"middle\" x=\"954.12\" y=\"-94.7\" font-family=\"Times,serif\" font-size=\"14.00\">L</text>\n",
       "<polyline fill=\"none\" stroke=\"black\" points=\"966.25,-82 966.25,-117.5\"/>\n",
       "<text text-anchor=\"middle\" x=\"1008.38\" y=\"-94.7\" font-family=\"Times,serif\" font-size=\"14.00\">data &#45;8.0000</text>\n",
       "<polyline fill=\"none\" stroke=\"black\" points=\"1050.5,-82 1050.5,-117.5\"/>\n",
       "<text text-anchor=\"middle\" x=\"1091.12\" y=\"-94.7\" font-family=\"Times,serif\" font-size=\"14.00\">grad 0.0000</text>\n",
       "</g>\n",
       "<!-- 140269297326232* -->\n",
       "<g id=\"node4\" class=\"node\">\n",
       "<title>140269297326232*</title>\n",
       "<ellipse fill=\"none\" stroke=\"black\" cx=\"879\" cy=\"-99.5\" rx=\"27\" ry=\"18\"/>\n",
       "<text text-anchor=\"middle\" x=\"879\" y=\"-94.45\" font-family=\"Times,serif\" font-size=\"14.00\">*</text>\n",
       "</g>\n",
       "<!-- 140269297326232*&#45;&gt;140269297326232 -->\n",
       "<g id=\"edge2\" class=\"edge\">\n",
       "<title>140269297326232*&#45;&gt;140269297326232</title>\n",
       "<path fill=\"none\" stroke=\"black\" d=\"M906.44,-99.5C913.59,-99.5 921.78,-99.5 930.49,-99.5\"/>\n",
       "<polygon fill=\"black\" stroke=\"black\" points=\"930.26,-103 940.26,-99.5 930.26,-96 930.26,-103\"/>\n",
       "</g>\n",
       "<!-- 140269297326288 -->\n",
       "<g id=\"node5\" class=\"node\">\n",
       "<title>140269297326288</title>\n",
       "<polygon fill=\"none\" stroke=\"black\" points=\"631.12,-54.5 631.12,-90.5 814.88,-90.5 814.88,-54.5 631.12,-54.5\"/>\n",
       "<text text-anchor=\"middle\" x=\"642.5\" y=\"-67.7\" font-family=\"Times,serif\" font-size=\"14.00\">d</text>\n",
       "<polyline fill=\"none\" stroke=\"black\" points=\"653.88,-55 653.88,-90.5\"/>\n",
       "<text text-anchor=\"middle\" x=\"693.75\" y=\"-67.7\" font-family=\"Times,serif\" font-size=\"14.00\">data 4.0000</text>\n",
       "<polyline fill=\"none\" stroke=\"black\" points=\"733.62,-55 733.62,-90.5\"/>\n",
       "<text text-anchor=\"middle\" x=\"774.25\" y=\"-67.7\" font-family=\"Times,serif\" font-size=\"14.00\">grad 0.0000</text>\n",
       "</g>\n",
       "<!-- 140269297326288&#45;&gt;140269297326232* -->\n",
       "<g id=\"edge9\" class=\"edge\">\n",
       "<title>140269297326288&#45;&gt;140269297326232*</title>\n",
       "<path fill=\"none\" stroke=\"black\" d=\"M815.36,-88.52C824.5,-90.12 833.36,-91.67 841.4,-93.08\"/>\n",
       "<polygon fill=\"black\" stroke=\"black\" points=\"840.58,-96.49 851.04,-94.77 841.79,-89.6 840.58,-96.49\"/>\n",
       "</g>\n",
       "<!-- 140269297326288+&#45;&gt;140269297326288 -->\n",
       "<g id=\"edge3\" class=\"edge\">\n",
       "<title>140269297326288+&#45;&gt;140269297326288</title>\n",
       "<path fill=\"none\" stroke=\"black\" d=\"M594.47,-72.5C601.87,-72.5 610.38,-72.5 619.43,-72.5\"/>\n",
       "<polygon fill=\"black\" stroke=\"black\" points=\"619.17,-76 629.17,-72.5 619.17,-69 619.17,-76\"/>\n",
       "</g>\n",
       "<!-- 140269297325784 -->\n",
       "<g id=\"node7\" class=\"node\">\n",
       "<title>140269297325784</title>\n",
       "<polygon fill=\"none\" stroke=\"black\" points=\"2.62,-55.5 2.62,-91.5 185.62,-91.5 185.62,-55.5 2.62,-55.5\"/>\n",
       "<text text-anchor=\"middle\" x=\"13.62\" y=\"-68.7\" font-family=\"Times,serif\" font-size=\"14.00\">a</text>\n",
       "<polyline fill=\"none\" stroke=\"black\" points=\"24.62,-56 24.62,-91.5\"/>\n",
       "<text text-anchor=\"middle\" x=\"64.5\" y=\"-68.7\" font-family=\"Times,serif\" font-size=\"14.00\">data 2.0000</text>\n",
       "<polyline fill=\"none\" stroke=\"black\" points=\"104.38,-56 104.38,-91.5\"/>\n",
       "<text text-anchor=\"middle\" x=\"145\" y=\"-68.7\" font-family=\"Times,serif\" font-size=\"14.00\">grad 0.0000</text>\n",
       "</g>\n",
       "<!-- 140269297325784&#45;&gt;140269297326176* -->\n",
       "<g id=\"edge7\" class=\"edge\">\n",
       "<title>140269297325784&#45;&gt;140269297326176*</title>\n",
       "<path fill=\"none\" stroke=\"black\" d=\"M185.81,-57.13C195.66,-55.35 205.21,-53.63 213.82,-52.08\"/>\n",
       "<polygon fill=\"black\" stroke=\"black\" points=\"214.19,-55.57 223.41,-50.34 212.95,-48.68 214.19,-55.57\"/>\n",
       "</g>\n",
       "<!-- 140269297325840 -->\n",
       "<g id=\"node8\" class=\"node\">\n",
       "<title>140269297325840</title>\n",
       "<polygon fill=\"none\" stroke=\"black\" points=\"0,-0.5 0,-36.5 188.25,-36.5 188.25,-0.5 0,-0.5\"/>\n",
       "<text text-anchor=\"middle\" x=\"11.38\" y=\"-13.7\" font-family=\"Times,serif\" font-size=\"14.00\">b</text>\n",
       "<polyline fill=\"none\" stroke=\"black\" points=\"22.75,-1 22.75,-36.5\"/>\n",
       "<text text-anchor=\"middle\" x=\"64.88\" y=\"-13.7\" font-family=\"Times,serif\" font-size=\"14.00\">data &#45;3.0000</text>\n",
       "<polyline fill=\"none\" stroke=\"black\" points=\"107,-1 107,-36.5\"/>\n",
       "<text text-anchor=\"middle\" x=\"147.62\" y=\"-13.7\" font-family=\"Times,serif\" font-size=\"14.00\">grad 0.0000</text>\n",
       "</g>\n",
       "<!-- 140269297325840&#45;&gt;140269297326176* -->\n",
       "<g id=\"edge4\" class=\"edge\">\n",
       "<title>140269297325840&#45;&gt;140269297326176*</title>\n",
       "<path fill=\"none\" stroke=\"black\" d=\"M188.49,-34.75C197.27,-36.28 205.77,-37.76 213.51,-39.1\"/>\n",
       "<polygon fill=\"black\" stroke=\"black\" points=\"212.66,-42.51 223.11,-40.78 213.86,-35.61 212.66,-42.51\"/>\n",
       "</g>\n",
       "<!-- 140269297326008 -->\n",
       "<g id=\"node9\" class=\"node\">\n",
       "<title>140269297326008</title>\n",
       "<polygon fill=\"none\" stroke=\"black\" points=\"314.25,-82.5 314.25,-118.5 504,-118.5 504,-82.5 314.25,-82.5\"/>\n",
       "<text text-anchor=\"middle\" x=\"325.25\" y=\"-95.7\" font-family=\"Times,serif\" font-size=\"14.00\">c</text>\n",
       "<polyline fill=\"none\" stroke=\"black\" points=\"336.25,-83 336.25,-118.5\"/>\n",
       "<text text-anchor=\"middle\" x=\"379.5\" y=\"-95.7\" font-family=\"Times,serif\" font-size=\"14.00\">data 10.0000</text>\n",
       "<polyline fill=\"none\" stroke=\"black\" points=\"422.75,-83 422.75,-118.5\"/>\n",
       "<text text-anchor=\"middle\" x=\"463.38\" y=\"-95.7\" font-family=\"Times,serif\" font-size=\"14.00\">grad 0.0000</text>\n",
       "</g>\n",
       "<!-- 140269297326008&#45;&gt;140269297326288+ -->\n",
       "<g id=\"edge6\" class=\"edge\">\n",
       "<title>140269297326008&#45;&gt;140269297326288+</title>\n",
       "<path fill=\"none\" stroke=\"black\" d=\"M504.39,-83.57C513.16,-81.99 521.65,-80.47 529.37,-79.08\"/>\n",
       "<polygon fill=\"black\" stroke=\"black\" points=\"529.73,-82.57 538.95,-77.36 528.49,-75.68 529.73,-82.57\"/>\n",
       "</g>\n",
       "<!-- 140269297326064 -->\n",
       "<g id=\"node10\" class=\"node\">\n",
       "<title>140269297326064</title>\n",
       "<polygon fill=\"none\" stroke=\"black\" points=\"630,-109.5 630,-145.5 816,-145.5 816,-109.5 630,-109.5\"/>\n",
       "<text text-anchor=\"middle\" x=\"640.25\" y=\"-122.7\" font-family=\"Times,serif\" font-size=\"14.00\">f</text>\n",
       "<polyline fill=\"none\" stroke=\"black\" points=\"650.5,-110 650.5,-145.5\"/>\n",
       "<text text-anchor=\"middle\" x=\"692.62\" y=\"-122.7\" font-family=\"Times,serif\" font-size=\"14.00\">data &#45;2.0000</text>\n",
       "<polyline fill=\"none\" stroke=\"black\" points=\"734.75,-110 734.75,-145.5\"/>\n",
       "<text text-anchor=\"middle\" x=\"775.38\" y=\"-122.7\" font-family=\"Times,serif\" font-size=\"14.00\">grad 0.0000</text>\n",
       "</g>\n",
       "<!-- 140269297326064&#45;&gt;140269297326232* -->\n",
       "<g id=\"edge5\" class=\"edge\">\n",
       "<title>140269297326064&#45;&gt;140269297326232*</title>\n",
       "<path fill=\"none\" stroke=\"black\" d=\"M816.25,-110.73C825.1,-109.12 833.67,-107.56 841.46,-106.14\"/>\n",
       "<polygon fill=\"black\" stroke=\"black\" points=\"841.93,-109.62 851.15,-104.38 840.68,-102.73 841.93,-109.62\"/>\n",
       "</g>\n",
       "</g>\n",
       "</svg>\n"
      ],
      "text/plain": [
       "<graphviz.graphs.Digraph at 0x7f92fda374e0>"
      ]
     },
     "execution_count": 20,
     "metadata": {},
     "output_type": "execute_result"
    }
   ],
   "source": [
    "draw_dot(L)"
   ]
  },
  {
   "cell_type": "code",
   "execution_count": 22,
   "metadata": {},
   "outputs": [
    {
     "name": "stdout",
     "output_type": "stream",
     "text": [
      "6.000000000021544\n"
     ]
    }
   ],
   "source": [
    "def lol():\n",
    "    \n",
    "    h = 0.0001\n",
    "    \n",
    "    a = Value(2.0, label='a')\n",
    "    b = Value(-3.0, label='b')\n",
    "    c = Value(10.0, label='c')\n",
    "    e = a*b; e.label = 'e'\n",
    "    d = e + c; d.label = 'd'\n",
    "    f = Value(-2.0, label = 'f')\n",
    "    L = d * f; L.label = 'L'\n",
    "    L1 = L.data\n",
    "    \n",
    "    a = Value(2.0 + h, label='a')\n",
    "    b = Value(-3.0, label='b')\n",
    "    c = Value(10.0, label='c')\n",
    "    e = a*b; e.label = 'e'\n",
    "    d = e + c; d.label = 'd'\n",
    "    f = Value(-2.0, label = 'f')\n",
    "    L = d * f; L.label = 'L'\n",
    "    L2 = L.data\n",
    "    \n",
    "    print((L2 - L1)/h)\n",
    "    \n",
    "lol()"
   ]
  },
  {
   "cell_type": "code",
   "execution_count": null,
   "metadata": {},
   "outputs": [],
   "source": []
  }
 ],
 "metadata": {
  "kernelspec": {
   "display_name": "Python 3",
   "language": "python",
   "name": "python3"
  },
  "language_info": {
   "codemirror_mode": {
    "name": "ipython",
    "version": 3
   },
   "file_extension": ".py",
   "mimetype": "text/x-python",
   "name": "python",
   "nbconvert_exporter": "python",
   "pygments_lexer": "ipython3",
   "version": "3.6.8"
  }
 },
 "nbformat": 4,
 "nbformat_minor": 2
}
