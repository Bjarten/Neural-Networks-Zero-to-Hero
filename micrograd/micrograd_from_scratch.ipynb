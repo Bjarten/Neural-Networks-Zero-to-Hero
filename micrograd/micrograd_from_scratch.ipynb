{
 "cells": [
  {
   "cell_type": "code",
   "execution_count": 1,
   "metadata": {},
   "outputs": [],
   "source": [
    "import math\n",
    "import numpy as np\n",
    "import matplotlib.pyplot as plt\n",
    "%matplotlib inline"
   ]
  },
  {
   "cell_type": "code",
   "execution_count": 2,
   "metadata": {},
   "outputs": [],
   "source": [
    "def f(x):\n",
    "    return 3*x**2 - 4*x + 5"
   ]
  },
  {
   "cell_type": "code",
   "execution_count": 3,
   "metadata": {},
   "outputs": [
    {
     "data": {
      "text/plain": [
       "20.0"
      ]
     },
     "execution_count": 3,
     "metadata": {},
     "output_type": "execute_result"
    }
   ],
   "source": [
    "f(3.0)"
   ]
  },
  {
   "cell_type": "code",
   "execution_count": 4,
   "metadata": {},
   "outputs": [
    {
     "data": {
      "text/plain": [
       "[<matplotlib.lines.Line2D at 0x7fc6e0a46da0>]"
      ]
     },
     "execution_count": 4,
     "metadata": {},
     "output_type": "execute_result"
    },
    {
     "data": {
      "image/png": "[encoded data removed]",
      "text/plain": [
       "<Figure size 432x288 with 1 Axes>"
      ]
     },
     "metadata": {
      "needs_background": "light"
     },
     "output_type": "display_data"
    }
   ],
   "source": [
    "xs = np.arange(-5, 5, 0.25)\n",
    "ys = f(xs)\n",
    "plt.plot(xs, ys)"
   ]
  },
  {
   "cell_type": "code",
   "execution_count": 5,
   "metadata": {},
   "outputs": [
    {
     "data": {
      "text/plain": [
       "array([-5.  , -4.75, -4.5 , -4.25, -4.  , -3.75, -3.5 , -3.25, -3.  ,\n",
       "       -2.75, -2.5 , -2.25, -2.  , -1.75, -1.5 , -1.25, -1.  , -0.75,\n",
       "       -0.5 , -0.25,  0.  ,  0.25,  0.5 ,  0.75,  1.  ,  1.25,  1.5 ,\n",
       "        1.75,  2.  ,  2.25,  2.5 ,  2.75,  3.  ,  3.25,  3.5 ,  3.75,\n",
       "        4.  ,  4.25,  4.5 ,  4.75])"
      ]
     },
     "execution_count": 5,
     "metadata": {},
     "output_type": "execute_result"
    }
   ],
   "source": [
    "xs"
   ]
  },
  {
   "cell_type": "code",
   "execution_count": 6,
   "metadata": {
    "scrolled": true
   },
   "outputs": [
    {
     "data": {
      "text/plain": [
       "array([100.    ,  91.6875,  83.75  ,  76.1875,  69.    ,  62.1875,\n",
       "        55.75  ,  49.6875,  44.    ,  38.6875,  33.75  ,  29.1875,\n",
       "        25.    ,  21.1875,  17.75  ,  14.6875,  12.    ,   9.6875,\n",
       "         7.75  ,   6.1875,   5.    ,   4.1875,   3.75  ,   3.6875,\n",
       "         4.    ,   4.6875,   5.75  ,   7.1875,   9.    ,  11.1875,\n",
       "        13.75  ,  16.6875,  20.    ,  23.6875,  27.75  ,  32.1875,\n",
       "        37.    ,  42.1875,  47.75  ,  53.6875])"
      ]
     },
     "execution_count": 6,
     "metadata": {},
     "output_type": "execute_result"
    }
   ],
   "source": [
    "ys"
   ]
  },
  {
   "cell_type": "code",
   "execution_count": 7,
   "metadata": {
    "scrolled": false
   },
   "outputs": [
    {
     "data": {
      "text/plain": [
       "14.000178794049134"
      ]
     },
     "execution_count": 7,
     "metadata": {},
     "output_type": "execute_result"
    }
   ],
   "source": [
    "h = 0.00000000001\n",
    "x = 3.0\n",
    "(f(x + h) - f(x))/h"
   ]
  },
  {
   "cell_type": "markdown",
   "metadata": {},
   "source": [
    "The derivative of 3*x**2 - 4*x + 5 is 6x - 4. 6*3-4=14"
   ]
  },
  {
   "cell_type": "code",
   "execution_count": 8,
   "metadata": {},
   "outputs": [
    {
     "data": {
      "text/plain": [
       "-21.999824184604222"
      ]
     },
     "execution_count": 8,
     "metadata": {},
     "output_type": "execute_result"
    }
   ],
   "source": [
    "h = 0.00000000001\n",
    "x = -3.0\n",
    "(f(x + h) - f(x))/h"
   ]
  },
  {
   "cell_type": "code",
   "execution_count": 9,
   "metadata": {
    "scrolled": false
   },
   "outputs": [
    {
     "data": {
      "text/plain": [
       "0.0"
      ]
     },
     "execution_count": 9,
     "metadata": {},
     "output_type": "execute_result"
    }
   ],
   "source": [
    "h = 0.00000000001\n",
    "x = 2/3\n",
    "(f(x + h) - f(x))/h"
   ]
  },
  {
   "cell_type": "markdown",
   "metadata": {},
   "source": [
    "Let's get more complex"
   ]
  },
  {
   "cell_type": "code",
   "execution_count": 10,
   "metadata": {},
   "outputs": [
    {
     "name": "stdout",
     "output_type": "stream",
     "text": [
      "4.0\n"
     ]
    }
   ],
   "source": [
    "a = 2.0\n",
    "b = -3.0\n",
    "c = 10.0\n",
    "d = a*b + c\n",
    "print(d)"
   ]
  },
  {
   "cell_type": "markdown",
   "metadata": {},
   "source": [
    "Let's look at the derivatives"
   ]
  },
  {
   "cell_type": "code",
   "execution_count": 11,
   "metadata": {},
   "outputs": [
    {
     "name": "stdout",
     "output_type": "stream",
     "text": [
      "d1 4.0\n",
      "d2 3.999699999999999\n",
      "slope -3.000000000010772\n"
     ]
    }
   ],
   "source": [
    "# The derivative of d with respect to a is d'=b\n",
    "\n",
    "h = 0.0001\n",
    "\n",
    "a = 2.0\n",
    "b = -3.0\n",
    "c = 10.0\n",
    "d = a*b + c\n",
    "\n",
    "\n",
    "d1 = a*b + c\n",
    "a += h\n",
    "d2 = a*b + c\n",
    "\n",
    "print('d1', d1)\n",
    "print('d2', d2)\n",
    "print('slope', (d2-d1)/h)"
   ]
  },
  {
   "cell_type": "code",
   "execution_count": 12,
   "metadata": {},
   "outputs": [
    {
     "name": "stdout",
     "output_type": "stream",
     "text": [
      "d1 4.0\n",
      "d2 4.0002\n",
      "slope 2.0000000000042206\n"
     ]
    }
   ],
   "source": [
    "# The derivative of d with respect to b is d'=a\n",
    "\n",
    "h = 0.0001\n",
    "\n",
    "a = 2.0\n",
    "b = -3.0\n",
    "c = 10.0\n",
    "d = a*b + c\n",
    "\n",
    "\n",
    "d1 = a*b + c\n",
    "b += h\n",
    "d2 = a*b + c\n",
    "\n",
    "print('d1', d1)\n",
    "print('d2', d2)\n",
    "print('slope', (d2-d1)/h)"
   ]
  },
  {
   "cell_type": "code",
   "execution_count": 13,
   "metadata": {},
   "outputs": [
    {
     "name": "stdout",
     "output_type": "stream",
     "text": [
      "d1 4.0\n",
      "d2 4.0001\n",
      "slope 0.9999999999976694\n"
     ]
    }
   ],
   "source": [
    "# The derivative of d with respect to c is d'=1\n",
    "\n",
    "h = 0.0001\n",
    "\n",
    "a = 2.0\n",
    "b = -3.0\n",
    "c = 10.0\n",
    "d = a*b + c\n",
    "\n",
    "\n",
    "d1 = a*b + c\n",
    "c += h\n",
    "d2 = a*b + c\n",
    "\n",
    "print('d1', d1)\n",
    "print('d2', d2)\n",
    "print('slope', (d2-d1)/h)"
   ]
  },
  {
   "cell_type": "markdown",
   "metadata": {},
   "source": [
    "## Building out Micrograd"
   ]
  },
  {
   "cell_type": "code",
   "execution_count": 28,
   "metadata": {},
   "outputs": [
    {
     "name": "stdout",
     "output_type": "stream",
     "text": [
      "Value(data=-1.0)\n",
      "Value(data=-6.0)\n",
      "Value(data=4.0)\n",
      "Value(data=4.0)\n"
     ]
    }
   ],
   "source": [
    "class Value:\n",
    "    def __init__(self, data, _children=(), _op='', label=''):\n",
    "        self.data = data\n",
    "        self.grad = 0.0\n",
    "        self._prev = set(_children)\n",
    "        self._op = _op\n",
    "        self.label = label \n",
    "\n",
    "    def __repr__(self):\n",
    "        return f\"Value(data={self.data})\"\n",
    "    \n",
    "    def __add__(self, other):\n",
    "        out = Value(self.data + other.data, (self, other), '+')\n",
    "        return out\n",
    "    \n",
    "    def __mul__(self, other):\n",
    "        out = Value(self.data * other.data, (self, other), '*')\n",
    "        return out\n",
    "    \n",
    "    def tanh(self):\n",
    "        x = self.data\n",
    "        t = (math.exp(2*x) - 1)/(math.exp(2*x) + 1)\n",
    "        out = Value(t, (self,), 'tanh')\n",
    "        return out\n",
    "\n",
    "a = Value(2.0, label='a')\n",
    "b = Value(-3.0, label='b')\n",
    "c = Value(10.0, label='c')\n",
    "e = a*b; e.label = 'e'\n",
    "d = e + c; d.label = 'd'\n",
    "f = Value(-2.0, label = 'f')\n",
    "L = d * f; L.label = 'L'\n",
    "\n",
    "print(a + b)\n",
    "print(a * b)\n",
    "print(a*b + c)\n",
    "print((a.__mul__(b)).__add__(c))"
   ]
  },
  {
   "cell_type": "code",
   "execution_count": 15,
   "metadata": {},
   "outputs": [
    {
     "data": {
      "text/plain": [
       "{Value(data=-6.0), Value(data=10.0)}"
      ]
     },
     "execution_count": 15,
     "metadata": {},
     "output_type": "execute_result"
    }
   ],
   "source": [
    "d._prev"
   ]
  },
  {
   "cell_type": "code",
   "execution_count": 16,
   "metadata": {},
   "outputs": [
    {
     "data": {
      "text/plain": [
       "'+'"
      ]
     },
     "execution_count": 16,
     "metadata": {},
     "output_type": "execute_result"
    }
   ],
   "source": [
    "d._op"
   ]
  },
  {
   "cell_type": "code",
   "execution_count": 17,
   "metadata": {},
   "outputs": [],
   "source": [
    "#brew install graphviz\n",
    "#pip install graphviz\n",
    "from graphviz import Digraph\n",
    "\n",
    "def trace(root):\n",
    "    nodes, edges = set(), set()\n",
    "    def build(v):\n",
    "        if v not in nodes:\n",
    "            nodes.add(v)\n",
    "            for child in v._prev:\n",
    "                edges.add((child, v))\n",
    "                build(child)\n",
    "    build(root)\n",
    "    return nodes, edges\n",
    "\n",
    "def draw_dot(root):\n",
    "    nodes, edges = trace(root)\n",
    "    dot = Digraph(format='svg', graph_attr={'rankdir': 'LR'}) # LR = left to right\n",
    "    \n",
    "    for n in nodes:\n",
    "        uid = str(id(n))\n",
    "        \n",
    "        dot.node(name=str(id(n)), label = \"{  %s | data %.4f | grad %.4f }\" % (n.label, n.data, n.grad), shape='record')\n",
    "        if n._op:\n",
    "            dot.node(name=uid + n._op, label=n._op)\n",
    "            dot.edge(uid + n._op, uid)\n",
    "    \n",
    "    for n1, n2 in edges:\n",
    "        dot.edge(str(id(n1)), str(id(n2)) + n2._op)\n",
    "    \n",
    "    return dot"
   ]
  },
  {
   "cell_type": "code",
   "execution_count": 18,
   "metadata": {},
   "outputs": [],
   "source": [
    "L.grad = 1.0\n",
    "\n",
    "# L = d*f\n",
    "# dL/dd = f\n",
    "d.grad = f.data\n",
    "# dL/df = d\n",
    "f.grad = d.data\n",
    "\n",
    "# dd/dc ? \n",
    "# d = c + e \n",
    "# dd/dc = 1\n",
    "# dd/de = 1\n",
    "#\n",
    "# WANT:\n",
    "# dL/dc \n",
    "#\n",
    "# KNOW:\n",
    "# dL/dd\n",
    "# dd/dc\n",
    "# dL/dc = dL/dd*dd/dc\n",
    "# dL/de = dL/dd*dd/de\n",
    "\n",
    "c.grad = d.grad*1\n",
    "e.grad = d.grad*1\n",
    "\n",
    "# dL/da = dL/de*de/da\n",
    "# dL/db = dL/de*de/db\n",
    "# e = a*b\n",
    "# de/da = b\n",
    "# de/db = a\n",
    "\n",
    "a.grad = e.grad*b.data # dL/da = dL/de*de/da\n",
    "b.grad = e.grad*a.data # dL/db = dL/de*de/db"
   ]
  },
  {
   "cell_type": "code",
   "execution_count": 19,
   "metadata": {
    "scrolled": true
   },
   "outputs": [
    {
     "data": {
      "image/svg+xml": [
       "<?xml version=\"1.0\" encoding=\"UTF-8\" standalone=\"no\"?>\n",
       "<!DOCTYPE svg PUBLIC \"-//W3C//DTD SVG 1.1//EN\"\n",
       " \"http://www.w3.org/Graphics/SVG/1.1/DTD/svg11.dtd\">\n",
       "<!-- Generated by graphviz version 9.0.0 (20230911.1827)\n",
       " -->\n",
       "<!-- Pages: 1 -->\n",
       "<svg width=\"1151pt\" height=\"128pt\"\n",
       " viewBox=\"0.00 0.00 1151.00 128.00\" xmlns=\"http://www.w3.org/2000/svg\" xmlns:xlink=\"http://www.w3.org/1999/xlink\">\n",
       "<g id=\"graph0\" class=\"graph\" transform=\"scale(1 1) rotate(0) translate(4 124)\">\n",
       "<polygon fill=\"white\" stroke=\"none\" points=\"-4,4 -4,-124 1147,-124 1147,4 -4,4\"/>\n",
       "<!-- 140492150175784 -->\n",
       "<g id=\"node1\" class=\"node\">\n",
       "<title>140492150175784</title>\n",
       "<polygon fill=\"none\" stroke=\"black\" points=\"953.25,-27.5 953.25,-63.5 1143,-63.5 1143,-27.5 953.25,-27.5\"/>\n",
       "<text text-anchor=\"middle\" x=\"965.38\" y=\"-40.7\" font-family=\"Times,serif\" font-size=\"14.00\">L</text>\n",
       "<polyline fill=\"none\" stroke=\"black\" points=\"977.5,-28 977.5,-63.5\"/>\n",
       "<text text-anchor=\"middle\" x=\"1019.62\" y=\"-40.7\" font-family=\"Times,serif\" font-size=\"14.00\">data &#45;8.0000</text>\n",
       "<polyline fill=\"none\" stroke=\"black\" points=\"1061.75,-28 1061.75,-63.5\"/>\n",
       "<text text-anchor=\"middle\" x=\"1102.38\" y=\"-40.7\" font-family=\"Times,serif\" font-size=\"14.00\">grad 1.0000</text>\n",
       "</g>\n",
       "<!-- 140492150175784* -->\n",
       "<g id=\"node2\" class=\"node\">\n",
       "<title>140492150175784*</title>\n",
       "<ellipse fill=\"none\" stroke=\"black\" cx=\"890.25\" cy=\"-45.5\" rx=\"27\" ry=\"18\"/>\n",
       "<text text-anchor=\"middle\" x=\"890.25\" y=\"-40.45\" font-family=\"Times,serif\" font-size=\"14.00\">*</text>\n",
       "</g>\n",
       "<!-- 140492150175784*&#45;&gt;140492150175784 -->\n",
       "<g id=\"edge1\" class=\"edge\">\n",
       "<title>140492150175784*&#45;&gt;140492150175784</title>\n",
       "<path fill=\"none\" stroke=\"black\" d=\"M917.69,-45.5C924.84,-45.5 933.03,-45.5 941.74,-45.5\"/>\n",
       "<polygon fill=\"black\" stroke=\"black\" points=\"941.51,-49 951.51,-45.5 941.51,-42 941.51,-49\"/>\n",
       "</g>\n",
       "<!-- 140492150175840 -->\n",
       "<g id=\"node3\" class=\"node\">\n",
       "<title>140492150175840</title>\n",
       "<polygon fill=\"none\" stroke=\"black\" points=\"639,-55.5 639,-91.5 827.25,-91.5 827.25,-55.5 639,-55.5\"/>\n",
       "<text text-anchor=\"middle\" x=\"650.38\" y=\"-68.7\" font-family=\"Times,serif\" font-size=\"14.00\">d</text>\n",
       "<polyline fill=\"none\" stroke=\"black\" points=\"661.75,-56 661.75,-91.5\"/>\n",
       "<text text-anchor=\"middle\" x=\"701.62\" y=\"-68.7\" font-family=\"Times,serif\" font-size=\"14.00\">data 4.0000</text>\n",
       "<polyline fill=\"none\" stroke=\"black\" points=\"741.5,-56 741.5,-91.5\"/>\n",
       "<text text-anchor=\"middle\" x=\"784.38\" y=\"-68.7\" font-family=\"Times,serif\" font-size=\"14.00\">grad &#45;2.0000</text>\n",
       "</g>\n",
       "<!-- 140492150175840&#45;&gt;140492150175784* -->\n",
       "<g id=\"edge7\" class=\"edge\">\n",
       "<title>140492150175840&#45;&gt;140492150175784*</title>\n",
       "<path fill=\"none\" stroke=\"black\" d=\"M827.49,-56.65C836.36,-55.05 844.93,-53.5 852.73,-52.09\"/>\n",
       "<polygon fill=\"black\" stroke=\"black\" points=\"853.2,-55.56 862.42,-50.34 851.95,-48.68 853.2,-55.56\"/>\n",
       "</g>\n",
       "<!-- 140492150175840+ -->\n",
       "<g id=\"node4\" class=\"node\">\n",
       "<title>140492150175840+</title>\n",
       "<ellipse fill=\"none\" stroke=\"black\" cx=\"576\" cy=\"-73.5\" rx=\"27\" ry=\"18\"/>\n",
       "<text text-anchor=\"middle\" x=\"576\" y=\"-68.45\" font-family=\"Times,serif\" font-size=\"14.00\">+</text>\n",
       "</g>\n",
       "<!-- 140492150175840+&#45;&gt;140492150175840 -->\n",
       "<g id=\"edge2\" class=\"edge\">\n",
       "<title>140492150175840+&#45;&gt;140492150175840</title>\n",
       "<path fill=\"none\" stroke=\"black\" d=\"M603.31,-73.5C610.49,-73.5 618.72,-73.5 627.47,-73.5\"/>\n",
       "<polygon fill=\"black\" stroke=\"black\" points=\"627.29,-77 637.29,-73.5 627.29,-70 627.29,-77\"/>\n",
       "</g>\n",
       "<!-- 140492150175336 -->\n",
       "<g id=\"node5\" class=\"node\">\n",
       "<title>140492150175336</title>\n",
       "<polygon fill=\"none\" stroke=\"black\" points=\"4.88,-56.5 4.88,-92.5 187.88,-92.5 187.88,-56.5 4.88,-56.5\"/>\n",
       "<text text-anchor=\"middle\" x=\"15.88\" y=\"-69.7\" font-family=\"Times,serif\" font-size=\"14.00\">a</text>\n",
       "<polyline fill=\"none\" stroke=\"black\" points=\"26.88,-57 26.88,-92.5\"/>\n",
       "<text text-anchor=\"middle\" x=\"66.75\" y=\"-69.7\" font-family=\"Times,serif\" font-size=\"14.00\">data 2.0000</text>\n",
       "<polyline fill=\"none\" stroke=\"black\" points=\"106.62,-57 106.62,-92.5\"/>\n",
       "<text text-anchor=\"middle\" x=\"147.25\" y=\"-69.7\" font-family=\"Times,serif\" font-size=\"14.00\">grad 6.0000</text>\n",
       "</g>\n",
       "<!-- 140492150175728* -->\n",
       "<g id=\"node10\" class=\"node\">\n",
       "<title>140492150175728*</title>\n",
       "<ellipse fill=\"none\" stroke=\"black\" cx=\"255.75\" cy=\"-46.5\" rx=\"27\" ry=\"18\"/>\n",
       "<text text-anchor=\"middle\" x=\"255.75\" y=\"-41.45\" font-family=\"Times,serif\" font-size=\"14.00\">*</text>\n",
       "</g>\n",
       "<!-- 140492150175336&#45;&gt;140492150175728* -->\n",
       "<g id=\"edge6\" class=\"edge\">\n",
       "<title>140492150175336&#45;&gt;140492150175728*</title>\n",
       "<path fill=\"none\" stroke=\"black\" d=\"M188.01,-58.37C198.67,-56.48 209.04,-54.63 218.3,-52.99\"/>\n",
       "<polygon fill=\"black\" stroke=\"black\" points=\"218.65,-56.48 227.88,-51.28 217.42,-49.59 218.65,-56.48\"/>\n",
       "</g>\n",
       "<!-- 140492150175392 -->\n",
       "<g id=\"node6\" class=\"node\">\n",
       "<title>140492150175392</title>\n",
       "<polygon fill=\"none\" stroke=\"black\" points=\"0,-1.5 0,-37.5 192.75,-37.5 192.75,-1.5 0,-1.5\"/>\n",
       "<text text-anchor=\"middle\" x=\"11.38\" y=\"-14.7\" font-family=\"Times,serif\" font-size=\"14.00\">b</text>\n",
       "<polyline fill=\"none\" stroke=\"black\" points=\"22.75,-2 22.75,-37.5\"/>\n",
       "<text text-anchor=\"middle\" x=\"64.88\" y=\"-14.7\" font-family=\"Times,serif\" font-size=\"14.00\">data &#45;3.0000</text>\n",
       "<polyline fill=\"none\" stroke=\"black\" points=\"107,-2 107,-37.5\"/>\n",
       "<text text-anchor=\"middle\" x=\"149.88\" y=\"-14.7\" font-family=\"Times,serif\" font-size=\"14.00\">grad &#45;4.0000</text>\n",
       "</g>\n",
       "<!-- 140492150175392&#45;&gt;140492150175728* -->\n",
       "<g id=\"edge4\" class=\"edge\">\n",
       "<title>140492150175392&#45;&gt;140492150175728*</title>\n",
       "<path fill=\"none\" stroke=\"black\" d=\"M193,-35.91C201.81,-37.42 210.32,-38.88 218.06,-40.2\"/>\n",
       "<polygon fill=\"black\" stroke=\"black\" points=\"217.21,-43.61 227.66,-41.85 218.4,-36.71 217.21,-43.61\"/>\n",
       "</g>\n",
       "<!-- 140492150175560 -->\n",
       "<g id=\"node7\" class=\"node\">\n",
       "<title>140492150175560</title>\n",
       "<polygon fill=\"none\" stroke=\"black\" points=\"318.75,-83.5 318.75,-119.5 513,-119.5 513,-83.5 318.75,-83.5\"/>\n",
       "<text text-anchor=\"middle\" x=\"329.75\" y=\"-96.7\" font-family=\"Times,serif\" font-size=\"14.00\">c</text>\n",
       "<polyline fill=\"none\" stroke=\"black\" points=\"340.75,-84 340.75,-119.5\"/>\n",
       "<text text-anchor=\"middle\" x=\"384\" y=\"-96.7\" font-family=\"Times,serif\" font-size=\"14.00\">data 10.0000</text>\n",
       "<polyline fill=\"none\" stroke=\"black\" points=\"427.25,-84 427.25,-119.5\"/>\n",
       "<text text-anchor=\"middle\" x=\"470.12\" y=\"-96.7\" font-family=\"Times,serif\" font-size=\"14.00\">grad &#45;2.0000</text>\n",
       "</g>\n",
       "<!-- 140492150175560&#45;&gt;140492150175840+ -->\n",
       "<g id=\"edge8\" class=\"edge\">\n",
       "<title>140492150175560&#45;&gt;140492150175840+</title>\n",
       "<path fill=\"none\" stroke=\"black\" d=\"M513.41,-84.41C522.21,-82.85 530.7,-81.34 538.42,-79.98\"/>\n",
       "<polygon fill=\"black\" stroke=\"black\" points=\"538.77,-83.47 548,-78.28 537.55,-76.58 538.77,-83.47\"/>\n",
       "</g>\n",
       "<!-- 140492150175616 -->\n",
       "<g id=\"node8\" class=\"node\">\n",
       "<title>140492150175616</title>\n",
       "<polygon fill=\"none\" stroke=\"black\" points=\"640.12,-0.5 640.12,-36.5 826.12,-36.5 826.12,-0.5 640.12,-0.5\"/>\n",
       "<text text-anchor=\"middle\" x=\"650.38\" y=\"-13.7\" font-family=\"Times,serif\" font-size=\"14.00\">f</text>\n",
       "<polyline fill=\"none\" stroke=\"black\" points=\"660.62,-1 660.62,-36.5\"/>\n",
       "<text text-anchor=\"middle\" x=\"702.75\" y=\"-13.7\" font-family=\"Times,serif\" font-size=\"14.00\">data &#45;2.0000</text>\n",
       "<polyline fill=\"none\" stroke=\"black\" points=\"744.88,-1 744.88,-36.5\"/>\n",
       "<text text-anchor=\"middle\" x=\"785.5\" y=\"-13.7\" font-family=\"Times,serif\" font-size=\"14.00\">grad 4.0000</text>\n",
       "</g>\n",
       "<!-- 140492150175616&#45;&gt;140492150175784* -->\n",
       "<g id=\"edge9\" class=\"edge\">\n",
       "<title>140492150175616&#45;&gt;140492150175784*</title>\n",
       "<path fill=\"none\" stroke=\"black\" d=\"M826.6,-34.6C835.76,-36.19 844.62,-37.73 852.67,-39.13\"/>\n",
       "<polygon fill=\"black\" stroke=\"black\" points=\"851.85,-42.54 862.3,-40.81 853.05,-35.65 851.85,-42.54\"/>\n",
       "</g>\n",
       "<!-- 140492150175728 -->\n",
       "<g id=\"node9\" class=\"node\">\n",
       "<title>140492150175728</title>\n",
       "<polygon fill=\"none\" stroke=\"black\" points=\"319.88,-28.5 319.88,-64.5 511.88,-64.5 511.88,-28.5 319.88,-28.5\"/>\n",
       "<text text-anchor=\"middle\" x=\"330.88\" y=\"-41.7\" font-family=\"Times,serif\" font-size=\"14.00\">e</text>\n",
       "<polyline fill=\"none\" stroke=\"black\" points=\"341.88,-29 341.88,-64.5\"/>\n",
       "<text text-anchor=\"middle\" x=\"384\" y=\"-41.7\" font-family=\"Times,serif\" font-size=\"14.00\">data &#45;6.0000</text>\n",
       "<polyline fill=\"none\" stroke=\"black\" points=\"426.12,-29 426.12,-64.5\"/>\n",
       "<text text-anchor=\"middle\" x=\"469\" y=\"-41.7\" font-family=\"Times,serif\" font-size=\"14.00\">grad &#45;2.0000</text>\n",
       "</g>\n",
       "<!-- 140492150175728&#45;&gt;140492150175840+ -->\n",
       "<g id=\"edge5\" class=\"edge\">\n",
       "<title>140492150175728&#45;&gt;140492150175840+</title>\n",
       "<path fill=\"none\" stroke=\"black\" d=\"M512.05,-62.75C521.28,-64.33 530.2,-65.85 538.29,-67.23\"/>\n",
       "<polygon fill=\"black\" stroke=\"black\" points=\"537.53,-70.65 547.98,-68.89 538.71,-63.75 537.53,-70.65\"/>\n",
       "</g>\n",
       "<!-- 140492150175728*&#45;&gt;140492150175728 -->\n",
       "<g id=\"edge3\" class=\"edge\">\n",
       "<title>140492150175728*&#45;&gt;140492150175728</title>\n",
       "<path fill=\"none\" stroke=\"black\" d=\"M283.22,-46.5C290.59,-46.5 299.09,-46.5 308.13,-46.5\"/>\n",
       "<polygon fill=\"black\" stroke=\"black\" points=\"307.89,-50 317.89,-46.5 307.89,-43 307.89,-50\"/>\n",
       "</g>\n",
       "</g>\n",
       "</svg>\n"
      ],
      "text/plain": [
       "<graphviz.graphs.Digraph at 0x7fc6e0b337b8>"
      ]
     },
     "execution_count": 19,
     "metadata": {},
     "output_type": "execute_result"
    }
   ],
   "source": [
    "draw_dot(L)"
   ]
  },
  {
   "cell_type": "code",
   "execution_count": 20,
   "metadata": {},
   "outputs": [
    {
     "name": "stdout",
     "output_type": "stream",
     "text": [
      "-7.286496\n"
     ]
    }
   ],
   "source": [
    "a.data += 0.01 * a.grad\n",
    "b.data += 0.01 * b.grad\n",
    "c.data += 0.01 * c.grad\n",
    "f.data += 0.01 * f.grad\n",
    "\n",
    "e = a*b\n",
    "d = e+c\n",
    "L = d*f\n",
    "\n",
    "print(L.data)"
   ]
  },
  {
   "cell_type": "code",
   "execution_count": 23,
   "metadata": {},
   "outputs": [
    {
     "name": "stdout",
     "output_type": "stream",
     "text": [
      "6.000000000021544\n"
     ]
    }
   ],
   "source": [
    "# Function to test that the gradient manually\n",
    "def lol():\n",
    "    \n",
    "    h = 0.0001\n",
    "    \n",
    "    a = Value(2.0, label='a')\n",
    "    b = Value(-3.0, label='b')\n",
    "    c = Value(10.0, label='c')\n",
    "    e = a*b; e.label = 'e'\n",
    "    d = e + c; d.label = 'd'\n",
    "    f = Value(-2.0, label = 'f')\n",
    "    L = d * f; L.label = 'L'\n",
    "    L1 = L.data\n",
    "    \n",
    "    a = Value(2.0 + h, label='a')\n",
    "    b = Value(-3.0, label='b')\n",
    "    c = Value(10.0, label='c')\n",
    "    e = a*b; e.label = 'e'\n",
    "    d = e + c; d.label = 'd'\n",
    "    f = Value(-2.0, label = 'f')\n",
    "    L = d * f; L.label = 'L'\n",
    "    L2 = L.data\n",
    "    \n",
    "    print((L2 - L1)/h)\n",
    "    \n",
    "lol()"
   ]
  },
  {
   "cell_type": "markdown",
   "metadata": {},
   "source": [
    "### A Neuron"
   ]
  },
  {
   "cell_type": "code",
   "execution_count": 24,
   "metadata": {},
   "outputs": [
    {
     "data": {
      "image/png": "[encoded data removed]",
      "text/plain": [
       "<Figure size 432x288 with 1 Axes>"
      ]
     },
     "metadata": {
      "needs_background": "light"
     },
     "output_type": "display_data"
    }
   ],
   "source": [
    "plt.plot(np.arange(-5,5,0.2), np.tanh(np.arange(-5,5,0.2))); plt.grid();"
   ]
  },
  {
   "cell_type": "code",
   "execution_count": 34,
   "metadata": {},
   "outputs": [
    {
     "data": {
      "image/svg+xml": [
       "<?xml version=\"1.0\" encoding=\"UTF-8\" standalone=\"no\"?>\n",
       "<!DOCTYPE svg PUBLIC \"-//W3C//DTD SVG 1.1//EN\"\n",
       " \"http://www.w3.org/Graphics/SVG/1.1/DTD/svg11.dtd\">\n",
       "<!-- Generated by graphviz version 9.0.0 (20230911.1827)\n",
       " -->\n",
       "<!-- Pages: 1 -->\n",
       "<svg width=\"1537pt\" height=\"210pt\"\n",
       " viewBox=\"0.00 0.00 1537.25 210.00\" xmlns=\"http://www.w3.org/2000/svg\" xmlns:xlink=\"http://www.w3.org/1999/xlink\">\n",
       "<g id=\"graph0\" class=\"graph\" transform=\"scale(1 1) rotate(0) translate(4 206)\">\n",
       "<polygon fill=\"white\" stroke=\"none\" points=\"-4,4 -4,-206 1533.25,-206 1533.25,4 -4,4\"/>\n",
       "<!-- 140492128913448 -->\n",
       "<g id=\"node1\" class=\"node\">\n",
       "<title>140492128913448</title>\n",
       "<polygon fill=\"none\" stroke=\"black\" points=\"697.12,-137.5 697.12,-173.5 880.88,-173.5 880.88,-137.5 697.12,-137.5\"/>\n",
       "<text text-anchor=\"middle\" x=\"708.5\" y=\"-150.7\" font-family=\"Times,serif\" font-size=\"14.00\">b</text>\n",
       "<polyline fill=\"none\" stroke=\"black\" points=\"719.88,-138 719.88,-173.5\"/>\n",
       "<text text-anchor=\"middle\" x=\"759.75\" y=\"-150.7\" font-family=\"Times,serif\" font-size=\"14.00\">data 8.0000</text>\n",
       "<polyline fill=\"none\" stroke=\"black\" points=\"799.62,-138 799.62,-173.5\"/>\n",
       "<text text-anchor=\"middle\" x=\"840.25\" y=\"-150.7\" font-family=\"Times,serif\" font-size=\"14.00\">grad 0.0000</text>\n",
       "</g>\n",
       "<!-- 140492128913504+ -->\n",
       "<g id=\"node3\" class=\"node\">\n",
       "<title>140492128913504+</title>\n",
       "<ellipse fill=\"none\" stroke=\"black\" cx=\"972.75\" cy=\"-127.5\" rx=\"27\" ry=\"18\"/>\n",
       "<text text-anchor=\"middle\" x=\"972.75\" y=\"-122.45\" font-family=\"Times,serif\" font-size=\"14.00\">+</text>\n",
       "</g>\n",
       "<!-- 140492128913448&#45;&gt;140492128913504+ -->\n",
       "<g id=\"edge7\" class=\"edge\">\n",
       "<title>140492128913448&#45;&gt;140492128913504+</title>\n",
       "<path fill=\"none\" stroke=\"black\" d=\"M881.14,-141.46C900.2,-138.52 919.24,-135.59 934.91,-133.18\"/>\n",
       "<polygon fill=\"black\" stroke=\"black\" points=\"935.34,-136.65 944.69,-131.67 934.27,-129.73 935.34,-136.65\"/>\n",
       "</g>\n",
       "<!-- 140492128913504 -->\n",
       "<g id=\"node2\" class=\"node\">\n",
       "<title>140492128913504</title>\n",
       "<polygon fill=\"none\" stroke=\"black\" points=\"1035.75,-109.5 1035.75,-145.5 1219.5,-145.5 1219.5,-109.5 1035.75,-109.5\"/>\n",
       "<text text-anchor=\"middle\" x=\"1047.12\" y=\"-122.7\" font-family=\"Times,serif\" font-size=\"14.00\">n</text>\n",
       "<polyline fill=\"none\" stroke=\"black\" points=\"1058.5,-110 1058.5,-145.5\"/>\n",
       "<text text-anchor=\"middle\" x=\"1098.38\" y=\"-122.7\" font-family=\"Times,serif\" font-size=\"14.00\">data 2.0000</text>\n",
       "<polyline fill=\"none\" stroke=\"black\" points=\"1138.25,-110 1138.25,-145.5\"/>\n",
       "<text text-anchor=\"middle\" x=\"1178.88\" y=\"-122.7\" font-family=\"Times,serif\" font-size=\"14.00\">grad 0.0000</text>\n",
       "</g>\n",
       "<!-- 140492128914176tanh -->\n",
       "<g id=\"node10\" class=\"node\">\n",
       "<title>140492128914176tanh</title>\n",
       "<ellipse fill=\"none\" stroke=\"black\" cx=\"1282.5\" cy=\"-127.5\" rx=\"27\" ry=\"18\"/>\n",
       "<text text-anchor=\"middle\" x=\"1282.5\" y=\"-122.45\" font-family=\"Times,serif\" font-size=\"14.00\">tanh</text>\n",
       "</g>\n",
       "<!-- 140492128913504&#45;&gt;140492128914176tanh -->\n",
       "<g id=\"edge14\" class=\"edge\">\n",
       "<title>140492128913504&#45;&gt;140492128914176tanh</title>\n",
       "<path fill=\"none\" stroke=\"black\" d=\"M1219.76,-127.5C1228.14,-127.5 1236.27,-127.5 1243.73,-127.5\"/>\n",
       "<polygon fill=\"black\" stroke=\"black\" points=\"1243.7,-131 1253.7,-127.5 1243.7,-124 1243.7,-131\"/>\n",
       "</g>\n",
       "<!-- 140492128913504+&#45;&gt;140492128913504 -->\n",
       "<g id=\"edge1\" class=\"edge\">\n",
       "<title>140492128913504+&#45;&gt;140492128913504</title>\n",
       "<path fill=\"none\" stroke=\"black\" d=\"M1000.03,-127.5C1007.17,-127.5 1015.36,-127.5 1024.07,-127.5\"/>\n",
       "<polygon fill=\"black\" stroke=\"black\" points=\"1023.81,-131 1033.81,-127.5 1023.81,-124 1023.81,-131\"/>\n",
       "</g>\n",
       "<!-- 140492128913560 -->\n",
       "<g id=\"node4\" class=\"node\">\n",
       "<title>140492128913560</title>\n",
       "<polygon fill=\"none\" stroke=\"black\" points=\"2.25,-165.5 2.25,-201.5 195.75,-201.5 195.75,-165.5 2.25,-165.5\"/>\n",
       "<text text-anchor=\"middle\" x=\"18.5\" y=\"-178.7\" font-family=\"Times,serif\" font-size=\"14.00\">w2</text>\n",
       "<polyline fill=\"none\" stroke=\"black\" points=\"34.75,-166 34.75,-201.5\"/>\n",
       "<text text-anchor=\"middle\" x=\"74.62\" y=\"-178.7\" font-family=\"Times,serif\" font-size=\"14.00\">data 1.0000</text>\n",
       "<polyline fill=\"none\" stroke=\"black\" points=\"114.5,-166 114.5,-201.5\"/>\n",
       "<text text-anchor=\"middle\" x=\"155.12\" y=\"-178.7\" font-family=\"Times,serif\" font-size=\"14.00\">grad 0.0000</text>\n",
       "</g>\n",
       "<!-- 140492128913056* -->\n",
       "<g id=\"node6\" class=\"node\">\n",
       "<title>140492128913056*</title>\n",
       "<ellipse fill=\"none\" stroke=\"black\" cx=\"261\" cy=\"-128.5\" rx=\"27\" ry=\"18\"/>\n",
       "<text text-anchor=\"middle\" x=\"261\" y=\"-123.45\" font-family=\"Times,serif\" font-size=\"14.00\">*</text>\n",
       "</g>\n",
       "<!-- 140492128913560&#45;&gt;140492128913056* -->\n",
       "<g id=\"edge11\" class=\"edge\">\n",
       "<title>140492128913560&#45;&gt;140492128913056*</title>\n",
       "<path fill=\"none\" stroke=\"black\" d=\"M172.12,-165.01C180.9,-162.35 189.7,-159.5 198,-156.5 208.09,-152.86 218.82,-148.27 228.47,-143.88\"/>\n",
       "<polygon fill=\"black\" stroke=\"black\" points=\"229.86,-147.09 237.45,-139.69 226.9,-140.75 229.86,-147.09\"/>\n",
       "</g>\n",
       "<!-- 140492128913056 -->\n",
       "<g id=\"node5\" class=\"node\">\n",
       "<title>140492128913056</title>\n",
       "<polygon fill=\"none\" stroke=\"black\" points=\"326.25,-110.5 326.25,-146.5 540,-146.5 540,-110.5 326.25,-110.5\"/>\n",
       "<text text-anchor=\"middle\" x=\"352.62\" y=\"-123.7\" font-family=\"Times,serif\" font-size=\"14.00\">x2*w2</text>\n",
       "<polyline fill=\"none\" stroke=\"black\" points=\"379,-111 379,-146.5\"/>\n",
       "<text text-anchor=\"middle\" x=\"418.88\" y=\"-123.7\" font-family=\"Times,serif\" font-size=\"14.00\">data 0.0000</text>\n",
       "<polyline fill=\"none\" stroke=\"black\" points=\"458.75,-111 458.75,-146.5\"/>\n",
       "<text text-anchor=\"middle\" x=\"499.38\" y=\"-123.7\" font-family=\"Times,serif\" font-size=\"14.00\">grad 0.0000</text>\n",
       "</g>\n",
       "<!-- 140492128913616+ -->\n",
       "<g id=\"node8\" class=\"node\">\n",
       "<title>140492128913616+</title>\n",
       "<ellipse fill=\"none\" stroke=\"black\" cx=\"605.25\" cy=\"-100.5\" rx=\"27\" ry=\"18\"/>\n",
       "<text text-anchor=\"middle\" x=\"605.25\" y=\"-95.45\" font-family=\"Times,serif\" font-size=\"14.00\">+</text>\n",
       "</g>\n",
       "<!-- 140492128913056&#45;&gt;140492128913616+ -->\n",
       "<g id=\"edge8\" class=\"edge\">\n",
       "<title>140492128913056&#45;&gt;140492128913616+</title>\n",
       "<path fill=\"none\" stroke=\"black\" d=\"M540.42,-111.01C549.89,-109.45 559,-107.95 567.21,-106.6\"/>\n",
       "<polygon fill=\"black\" stroke=\"black\" points=\"567.75,-110.05 577.05,-104.98 566.62,-103.15 567.75,-110.05\"/>\n",
       "</g>\n",
       "<!-- 140492128913056*&#45;&gt;140492128913056 -->\n",
       "<g id=\"edge2\" class=\"edge\">\n",
       "<title>140492128913056*&#45;&gt;140492128913056</title>\n",
       "<path fill=\"none\" stroke=\"black\" d=\"M288.21,-128.5C296,-128.5 305.08,-128.5 314.82,-128.5\"/>\n",
       "<polygon fill=\"black\" stroke=\"black\" points=\"314.55,-132 324.55,-128.5 314.55,-125 314.55,-132\"/>\n",
       "</g>\n",
       "<!-- 140492128913616 -->\n",
       "<g id=\"node7\" class=\"node\">\n",
       "<title>140492128913616</title>\n",
       "<polygon fill=\"none\" stroke=\"black\" points=\"668.25,-82.5 668.25,-118.5 909.75,-118.5 909.75,-82.5 668.25,-82.5\"/>\n",
       "<text text-anchor=\"middle\" x=\"706.25\" y=\"-95.7\" font-family=\"Times,serif\" font-size=\"14.00\">x1w1x2w2</text>\n",
       "<polyline fill=\"none\" stroke=\"black\" points=\"744.25,-83 744.25,-118.5\"/>\n",
       "<text text-anchor=\"middle\" x=\"786.38\" y=\"-95.7\" font-family=\"Times,serif\" font-size=\"14.00\">data &#45;6.0000</text>\n",
       "<polyline fill=\"none\" stroke=\"black\" points=\"828.5,-83 828.5,-118.5\"/>\n",
       "<text text-anchor=\"middle\" x=\"869.12\" y=\"-95.7\" font-family=\"Times,serif\" font-size=\"14.00\">grad 0.0000</text>\n",
       "</g>\n",
       "<!-- 140492128913616&#45;&gt;140492128913504+ -->\n",
       "<g id=\"edge10\" class=\"edge\">\n",
       "<title>140492128913616&#45;&gt;140492128913504+</title>\n",
       "<path fill=\"none\" stroke=\"black\" d=\"M910.22,-118.36C918.97,-119.66 927.31,-120.9 934.87,-122.02\"/>\n",
       "<polygon fill=\"black\" stroke=\"black\" points=\"934.16,-125.45 944.56,-123.46 935.18,-118.53 934.16,-125.45\"/>\n",
       "</g>\n",
       "<!-- 140492128913616+&#45;&gt;140492128913616 -->\n",
       "<g id=\"edge3\" class=\"edge\">\n",
       "<title>140492128913616+&#45;&gt;140492128913616</title>\n",
       "<path fill=\"none\" stroke=\"black\" d=\"M632.68,-100.5C639.74,-100.5 647.87,-100.5 656.63,-100.5\"/>\n",
       "<polygon fill=\"black\" stroke=\"black\" points=\"656.52,-104 666.52,-100.5 656.52,-97 656.52,-104\"/>\n",
       "</g>\n",
       "<!-- 140492128914176 -->\n",
       "<g id=\"node9\" class=\"node\">\n",
       "<title>140492128914176</title>\n",
       "<polygon fill=\"none\" stroke=\"black\" points=\"1345.5,-109.5 1345.5,-145.5 1529.25,-145.5 1529.25,-109.5 1345.5,-109.5\"/>\n",
       "<text text-anchor=\"middle\" x=\"1356.88\" y=\"-122.7\" font-family=\"Times,serif\" font-size=\"14.00\">o</text>\n",
       "<polyline fill=\"none\" stroke=\"black\" points=\"1368.25,-110 1368.25,-145.5\"/>\n",
       "<text text-anchor=\"middle\" x=\"1408.12\" y=\"-122.7\" font-family=\"Times,serif\" font-size=\"14.00\">data 0.9640</text>\n",
       "<polyline fill=\"none\" stroke=\"black\" points=\"1448,-110 1448,-145.5\"/>\n",
       "<text text-anchor=\"middle\" x=\"1488.62\" y=\"-122.7\" font-family=\"Times,serif\" font-size=\"14.00\">grad 0.0000</text>\n",
       "</g>\n",
       "<!-- 140492128914176tanh&#45;&gt;140492128914176 -->\n",
       "<g id=\"edge4\" class=\"edge\">\n",
       "<title>140492128914176tanh&#45;&gt;140492128914176</title>\n",
       "<path fill=\"none\" stroke=\"black\" d=\"M1309.78,-127.5C1316.92,-127.5 1325.11,-127.5 1333.82,-127.5\"/>\n",
       "<polygon fill=\"black\" stroke=\"black\" points=\"1333.56,-131 1343.56,-127.5 1333.56,-124 1333.56,-131\"/>\n",
       "</g>\n",
       "<!-- 140492128913168 -->\n",
       "<g id=\"node11\" class=\"node\">\n",
       "<title>140492128913168</title>\n",
       "<polygon fill=\"none\" stroke=\"black\" points=\"324,-55.5 324,-91.5 542.25,-91.5 542.25,-55.5 324,-55.5\"/>\n",
       "<text text-anchor=\"middle\" x=\"350.38\" y=\"-68.7\" font-family=\"Times,serif\" font-size=\"14.00\">x1*w1</text>\n",
       "<polyline fill=\"none\" stroke=\"black\" points=\"376.75,-56 376.75,-91.5\"/>\n",
       "<text text-anchor=\"middle\" x=\"418.88\" y=\"-68.7\" font-family=\"Times,serif\" font-size=\"14.00\">data &#45;6.0000</text>\n",
       "<polyline fill=\"none\" stroke=\"black\" points=\"461,-56 461,-91.5\"/>\n",
       "<text text-anchor=\"middle\" x=\"501.62\" y=\"-68.7\" font-family=\"Times,serif\" font-size=\"14.00\">grad 0.0000</text>\n",
       "</g>\n",
       "<!-- 140492128913168&#45;&gt;140492128913616+ -->\n",
       "<g id=\"edge13\" class=\"edge\">\n",
       "<title>140492128913168&#45;&gt;140492128913616+</title>\n",
       "<path fill=\"none\" stroke=\"black\" d=\"M542.35,-90.68C551.12,-92.07 559.54,-93.4 567.19,-94.62\"/>\n",
       "<polygon fill=\"black\" stroke=\"black\" points=\"566.59,-98.07 577.02,-96.18 567.69,-91.15 566.59,-98.07\"/>\n",
       "</g>\n",
       "<!-- 140492128913168* -->\n",
       "<g id=\"node12\" class=\"node\">\n",
       "<title>140492128913168*</title>\n",
       "<ellipse fill=\"none\" stroke=\"black\" cx=\"261\" cy=\"-73.5\" rx=\"27\" ry=\"18\"/>\n",
       "<text text-anchor=\"middle\" x=\"261\" y=\"-68.45\" font-family=\"Times,serif\" font-size=\"14.00\">*</text>\n",
       "</g>\n",
       "<!-- 140492128913168*&#45;&gt;140492128913168 -->\n",
       "<g id=\"edge5\" class=\"edge\">\n",
       "<title>140492128913168*&#45;&gt;140492128913168</title>\n",
       "<path fill=\"none\" stroke=\"black\" d=\"M288.21,-73.5C295.29,-73.5 303.43,-73.5 312.17,-73.5\"/>\n",
       "<polygon fill=\"black\" stroke=\"black\" points=\"312.01,-77 322.01,-73.5 312.01,-70 312.01,-77\"/>\n",
       "</g>\n",
       "<!-- 140492128913672 -->\n",
       "<g id=\"node13\" class=\"node\">\n",
       "<title>140492128913672</title>\n",
       "<polygon fill=\"none\" stroke=\"black\" points=\"3.75,-55.5 3.75,-91.5 194.25,-91.5 194.25,-55.5 3.75,-55.5\"/>\n",
       "<text text-anchor=\"middle\" x=\"18.5\" y=\"-68.7\" font-family=\"Times,serif\" font-size=\"14.00\">x1</text>\n",
       "<polyline fill=\"none\" stroke=\"black\" points=\"33.25,-56 33.25,-91.5\"/>\n",
       "<text text-anchor=\"middle\" x=\"73.12\" y=\"-68.7\" font-family=\"Times,serif\" font-size=\"14.00\">data 2.0000</text>\n",
       "<polyline fill=\"none\" stroke=\"black\" points=\"113,-56 113,-91.5\"/>\n",
       "<text text-anchor=\"middle\" x=\"153.62\" y=\"-68.7\" font-family=\"Times,serif\" font-size=\"14.00\">grad 0.0000</text>\n",
       "</g>\n",
       "<!-- 140492128913672&#45;&gt;140492128913168* -->\n",
       "<g id=\"edge6\" class=\"edge\">\n",
       "<title>140492128913672&#45;&gt;140492128913168*</title>\n",
       "<path fill=\"none\" stroke=\"black\" d=\"M194.46,-73.5C204.21,-73.5 213.66,-73.5 222.21,-73.5\"/>\n",
       "<polygon fill=\"black\" stroke=\"black\" points=\"222.12,-77 232.12,-73.5 222.12,-70 222.12,-77\"/>\n",
       "</g>\n",
       "<!-- 140492128913728 -->\n",
       "<g id=\"node14\" class=\"node\">\n",
       "<title>140492128913728</title>\n",
       "<polygon fill=\"none\" stroke=\"black\" points=\"3.75,-110.5 3.75,-146.5 194.25,-146.5 194.25,-110.5 3.75,-110.5\"/>\n",
       "<text text-anchor=\"middle\" x=\"18.5\" y=\"-123.7\" font-family=\"Times,serif\" font-size=\"14.00\">x2</text>\n",
       "<polyline fill=\"none\" stroke=\"black\" points=\"33.25,-111 33.25,-146.5\"/>\n",
       "<text text-anchor=\"middle\" x=\"73.12\" y=\"-123.7\" font-family=\"Times,serif\" font-size=\"14.00\">data 0.0000</text>\n",
       "<polyline fill=\"none\" stroke=\"black\" points=\"113,-111 113,-146.5\"/>\n",
       "<text text-anchor=\"middle\" x=\"153.62\" y=\"-123.7\" font-family=\"Times,serif\" font-size=\"14.00\">grad 0.0000</text>\n",
       "</g>\n",
       "<!-- 140492128913728&#45;&gt;140492128913056* -->\n",
       "<g id=\"edge12\" class=\"edge\">\n",
       "<title>140492128913728&#45;&gt;140492128913056*</title>\n",
       "<path fill=\"none\" stroke=\"black\" d=\"M194.46,-128.5C204.21,-128.5 213.66,-128.5 222.21,-128.5\"/>\n",
       "<polygon fill=\"black\" stroke=\"black\" points=\"222.12,-132 232.12,-128.5 222.12,-125 222.12,-132\"/>\n",
       "</g>\n",
       "<!-- 140492128913392 -->\n",
       "<g id=\"node15\" class=\"node\">\n",
       "<title>140492128913392</title>\n",
       "<polygon fill=\"none\" stroke=\"black\" points=\"0,-0.5 0,-36.5 198,-36.5 198,-0.5 0,-0.5\"/>\n",
       "<text text-anchor=\"middle\" x=\"16.25\" y=\"-13.7\" font-family=\"Times,serif\" font-size=\"14.00\">w1</text>\n",
       "<polyline fill=\"none\" stroke=\"black\" points=\"32.5,-1 32.5,-36.5\"/>\n",
       "<text text-anchor=\"middle\" x=\"74.62\" y=\"-13.7\" font-family=\"Times,serif\" font-size=\"14.00\">data &#45;3.0000</text>\n",
       "<polyline fill=\"none\" stroke=\"black\" points=\"116.75,-1 116.75,-36.5\"/>\n",
       "<text text-anchor=\"middle\" x=\"157.38\" y=\"-13.7\" font-family=\"Times,serif\" font-size=\"14.00\">grad 0.0000</text>\n",
       "</g>\n",
       "<!-- 140492128913392&#45;&gt;140492128913168* -->\n",
       "<g id=\"edge9\" class=\"edge\">\n",
       "<title>140492128913392&#45;&gt;140492128913168*</title>\n",
       "<path fill=\"none\" stroke=\"black\" d=\"M168.91,-36.94C178.74,-39.93 188.67,-43.15 198,-46.5 207.96,-50.07 218.58,-54.47 228.18,-58.68\"/>\n",
       "<polygon fill=\"black\" stroke=\"black\" points=\"226.54,-61.78 237.1,-62.67 229.4,-55.39 226.54,-61.78\"/>\n",
       "</g>\n",
       "</g>\n",
       "</svg>\n"
      ],
      "text/plain": [
       "<graphviz.graphs.Digraph at 0x7fc6df700b38>"
      ]
     },
     "execution_count": 34,
     "metadata": {},
     "output_type": "execute_result"
    }
   ],
   "source": [
    "# inputs x1, x2\n",
    "x1 = Value(2.0, label='x1')\n",
    "x2 = Value(0.0, label='x2')\n",
    "# weights w1, w2\n",
    "w1 = Value(-3.0, label='w1')\n",
    "w2 = Value(1.0, label='w2')\n",
    "# bias of the neuron\n",
    "b = Value(8.0, label='b')\n",
    "# x1*w1 + x2*w2 + b\n",
    "x1w1 = x1*w1; x1w1.label='x1*w1'\n",
    "x2w2 = x2*w2; x2w2.label='x2*w2'\n",
    "x1w1x2w2 = x1w1 + x2w2; x1w1x2w2.label='x1w1x2w2'\n",
    "n = x1w1x2w2 + b; n.label='n'\n",
    "o = n.tanh(); o.label = 'o'\n",
    "\n",
    "draw_dot(o)"
   ]
  },
  {
   "cell_type": "code",
   "execution_count": null,
   "metadata": {},
   "outputs": [],
   "source": [
    "# inputs x1, x2\n",
    "x1 = Value(2.0, label='x1')\n",
    "x2 = Value(0.0, label='x2')\n",
    "# weights w1, w2\n",
    "w1 = Value(-3.0, label='w1')\n",
    "w2 = Value(1.0, label='w2')\n",
    "# bias of the neuron\n",
    "b = Value(6.881373587019432, label='b')\n",
    "# x1*w1 + x2*w2 + b\n",
    "x1w1 = x1*w1; x1w1.label='x1*w1'\n",
    "x2w2 = x2*w2; x2w2.label='x2*w2'\n",
    "x1w1x2w2 = x1w1 + x2w2; x1w1x2w2.label='x1w1x2w2'\n",
    "n = x1w1x2w2 + b; n.label='n'\n",
    "o = n.tanh(); o.label = 'o'"
   ]
  },
  {
   "cell_type": "code",
   "execution_count": 39,
   "metadata": {},
   "outputs": [],
   "source": [
    "# Backprop\n",
    "o.grad = 1.0"
   ]
  },
  {
   "cell_type": "code",
   "execution_count": 52,
   "metadata": {},
   "outputs": [
    {
     "data": {
      "text/plain": [
       "0.5000000000000784"
      ]
     },
     "execution_count": 52,
     "metadata": {},
     "output_type": "execute_result"
    }
   ],
   "source": [
    "# o = tanh(n)\n",
    "# do/dn = 1 - tanh(n)**2\n",
    "# do/dn = 1 - o**2\n",
    "n.grad = 1 - o.data**2\n",
    "n.grad"
   ]
  },
  {
   "cell_type": "code",
   "execution_count": 53,
   "metadata": {},
   "outputs": [],
   "source": [
    "x1w1x2w2.grad = n.grad\n",
    "b.grad = n.grad"
   ]
  },
  {
   "cell_type": "code",
   "execution_count": 54,
   "metadata": {},
   "outputs": [],
   "source": [
    "x1w1.grad = x1w1x2w2.grad\n",
    "x2w2.grad = x1w1x2w2.grad"
   ]
  },
  {
   "cell_type": "code",
   "execution_count": 58,
   "metadata": {},
   "outputs": [],
   "source": [
    "x1.grad = w1.data * x1w1.grad\n",
    "w1.grad = x1.data * x1w1.grad"
   ]
  },
  {
   "cell_type": "code",
   "execution_count": 59,
   "metadata": {},
   "outputs": [],
   "source": [
    "x2.grad = w2.data * x2w2.grad\n",
    "w2.grad = x2.data * x2w2.grad"
   ]
  },
  {
   "cell_type": "code",
   "execution_count": 60,
   "metadata": {},
   "outputs": [
    {
     "data": {
      "image/svg+xml": [
       "<?xml version=\"1.0\" encoding=\"UTF-8\" standalone=\"no\"?>\n",
       "<!DOCTYPE svg PUBLIC \"-//W3C//DTD SVG 1.1//EN\"\n",
       " \"http://www.w3.org/Graphics/SVG/1.1/DTD/svg11.dtd\">\n",
       "<!-- Generated by graphviz version 9.0.0 (20230911.1827)\n",
       " -->\n",
       "<!-- Pages: 1 -->\n",
       "<svg width=\"1537pt\" height=\"210pt\"\n",
       " viewBox=\"0.00 0.00 1537.25 210.00\" xmlns=\"http://www.w3.org/2000/svg\" xmlns:xlink=\"http://www.w3.org/1999/xlink\">\n",
       "<g id=\"graph0\" class=\"graph\" transform=\"scale(1 1) rotate(0) translate(4 206)\">\n",
       "<polygon fill=\"white\" stroke=\"none\" points=\"-4,4 -4,-206 1533.25,-206 1533.25,4 -4,4\"/>\n",
       "<!-- 140492128940104 -->\n",
       "<g id=\"node1\" class=\"node\">\n",
       "<title>140492128940104</title>\n",
       "<polygon fill=\"none\" stroke=\"black\" points=\"1345.5,-109.5 1345.5,-145.5 1529.25,-145.5 1529.25,-109.5 1345.5,-109.5\"/>\n",
       "<text text-anchor=\"middle\" x=\"1356.88\" y=\"-122.7\" font-family=\"Times,serif\" font-size=\"14.00\">o</text>\n",
       "<polyline fill=\"none\" stroke=\"black\" points=\"1368.25,-110 1368.25,-145.5\"/>\n",
       "<text text-anchor=\"middle\" x=\"1408.12\" y=\"-122.7\" font-family=\"Times,serif\" font-size=\"14.00\">data 0.7071</text>\n",
       "<polyline fill=\"none\" stroke=\"black\" points=\"1448,-110 1448,-145.5\"/>\n",
       "<text text-anchor=\"middle\" x=\"1488.62\" y=\"-122.7\" font-family=\"Times,serif\" font-size=\"14.00\">grad 1.0000</text>\n",
       "</g>\n",
       "<!-- 140492128940104tanh -->\n",
       "<g id=\"node2\" class=\"node\">\n",
       "<title>140492128940104tanh</title>\n",
       "<ellipse fill=\"none\" stroke=\"black\" cx=\"1282.5\" cy=\"-127.5\" rx=\"27\" ry=\"18\"/>\n",
       "<text text-anchor=\"middle\" x=\"1282.5\" y=\"-122.45\" font-family=\"Times,serif\" font-size=\"14.00\">tanh</text>\n",
       "</g>\n",
       "<!-- 140492128940104tanh&#45;&gt;140492128940104 -->\n",
       "<g id=\"edge1\" class=\"edge\">\n",
       "<title>140492128940104tanh&#45;&gt;140492128940104</title>\n",
       "<path fill=\"none\" stroke=\"black\" d=\"M1309.78,-127.5C1316.92,-127.5 1325.11,-127.5 1333.82,-127.5\"/>\n",
       "<polygon fill=\"black\" stroke=\"black\" points=\"1333.56,-131 1343.56,-127.5 1333.56,-124 1333.56,-131\"/>\n",
       "</g>\n",
       "<!-- 140492128915072 -->\n",
       "<g id=\"node3\" class=\"node\">\n",
       "<title>140492128915072</title>\n",
       "<polygon fill=\"none\" stroke=\"black\" points=\"1035.75,-109.5 1035.75,-145.5 1219.5,-145.5 1219.5,-109.5 1035.75,-109.5\"/>\n",
       "<text text-anchor=\"middle\" x=\"1047.12\" y=\"-122.7\" font-family=\"Times,serif\" font-size=\"14.00\">n</text>\n",
       "<polyline fill=\"none\" stroke=\"black\" points=\"1058.5,-110 1058.5,-145.5\"/>\n",
       "<text text-anchor=\"middle\" x=\"1098.38\" y=\"-122.7\" font-family=\"Times,serif\" font-size=\"14.00\">data 0.8814</text>\n",
       "<polyline fill=\"none\" stroke=\"black\" points=\"1138.25,-110 1138.25,-145.5\"/>\n",
       "<text text-anchor=\"middle\" x=\"1178.88\" y=\"-122.7\" font-family=\"Times,serif\" font-size=\"14.00\">grad 0.5000</text>\n",
       "</g>\n",
       "<!-- 140492128915072&#45;&gt;140492128940104tanh -->\n",
       "<g id=\"edge14\" class=\"edge\">\n",
       "<title>140492128915072&#45;&gt;140492128940104tanh</title>\n",
       "<path fill=\"none\" stroke=\"black\" d=\"M1219.76,-127.5C1228.14,-127.5 1236.27,-127.5 1243.73,-127.5\"/>\n",
       "<polygon fill=\"black\" stroke=\"black\" points=\"1243.7,-131 1253.7,-127.5 1243.7,-124 1243.7,-131\"/>\n",
       "</g>\n",
       "<!-- 140492128915072+ -->\n",
       "<g id=\"node4\" class=\"node\">\n",
       "<title>140492128915072+</title>\n",
       "<ellipse fill=\"none\" stroke=\"black\" cx=\"972.75\" cy=\"-127.5\" rx=\"27\" ry=\"18\"/>\n",
       "<text text-anchor=\"middle\" x=\"972.75\" y=\"-122.45\" font-family=\"Times,serif\" font-size=\"14.00\">+</text>\n",
       "</g>\n",
       "<!-- 140492128915072+&#45;&gt;140492128915072 -->\n",
       "<g id=\"edge2\" class=\"edge\">\n",
       "<title>140492128915072+&#45;&gt;140492128915072</title>\n",
       "<path fill=\"none\" stroke=\"black\" d=\"M1000.03,-127.5C1007.17,-127.5 1015.36,-127.5 1024.07,-127.5\"/>\n",
       "<polygon fill=\"black\" stroke=\"black\" points=\"1023.81,-131 1033.81,-127.5 1023.81,-124 1023.81,-131\"/>\n",
       "</g>\n",
       "<!-- 140492128914568 -->\n",
       "<g id=\"node5\" class=\"node\">\n",
       "<title>140492128914568</title>\n",
       "<polygon fill=\"none\" stroke=\"black\" points=\"3.75,-55.5 3.75,-91.5 194.25,-91.5 194.25,-55.5 3.75,-55.5\"/>\n",
       "<text text-anchor=\"middle\" x=\"18.5\" y=\"-68.7\" font-family=\"Times,serif\" font-size=\"14.00\">x2</text>\n",
       "<polyline fill=\"none\" stroke=\"black\" points=\"33.25,-56 33.25,-91.5\"/>\n",
       "<text text-anchor=\"middle\" x=\"73.12\" y=\"-68.7\" font-family=\"Times,serif\" font-size=\"14.00\">data 0.0000</text>\n",
       "<polyline fill=\"none\" stroke=\"black\" points=\"113,-56 113,-91.5\"/>\n",
       "<text text-anchor=\"middle\" x=\"153.62\" y=\"-68.7\" font-family=\"Times,serif\" font-size=\"14.00\">grad 0.5000</text>\n",
       "</g>\n",
       "<!-- 140492128915408* -->\n",
       "<g id=\"node15\" class=\"node\">\n",
       "<title>140492128915408*</title>\n",
       "<ellipse fill=\"none\" stroke=\"black\" cx=\"261\" cy=\"-73.5\" rx=\"27\" ry=\"18\"/>\n",
       "<text text-anchor=\"middle\" x=\"261\" y=\"-68.45\" font-family=\"Times,serif\" font-size=\"14.00\">*</text>\n",
       "</g>\n",
       "<!-- 140492128914568&#45;&gt;140492128915408* -->\n",
       "<g id=\"edge11\" class=\"edge\">\n",
       "<title>140492128914568&#45;&gt;140492128915408*</title>\n",
       "<path fill=\"none\" stroke=\"black\" d=\"M194.46,-73.5C204.21,-73.5 213.66,-73.5 222.21,-73.5\"/>\n",
       "<polygon fill=\"black\" stroke=\"black\" points=\"222.12,-77 232.12,-73.5 222.12,-70 222.12,-77\"/>\n",
       "</g>\n",
       "<!-- 140492128915184 -->\n",
       "<g id=\"node6\" class=\"node\">\n",
       "<title>140492128915184</title>\n",
       "<polygon fill=\"none\" stroke=\"black\" points=\"324,-110.5 324,-146.5 542.25,-146.5 542.25,-110.5 324,-110.5\"/>\n",
       "<text text-anchor=\"middle\" x=\"350.38\" y=\"-123.7\" font-family=\"Times,serif\" font-size=\"14.00\">x1*w1</text>\n",
       "<polyline fill=\"none\" stroke=\"black\" points=\"376.75,-111 376.75,-146.5\"/>\n",
       "<text text-anchor=\"middle\" x=\"418.88\" y=\"-123.7\" font-family=\"Times,serif\" font-size=\"14.00\">data &#45;6.0000</text>\n",
       "<polyline fill=\"none\" stroke=\"black\" points=\"461,-111 461,-146.5\"/>\n",
       "<text text-anchor=\"middle\" x=\"501.62\" y=\"-123.7\" font-family=\"Times,serif\" font-size=\"14.00\">grad 0.5000</text>\n",
       "</g>\n",
       "<!-- 140492128914904+ -->\n",
       "<g id=\"node13\" class=\"node\">\n",
       "<title>140492128914904+</title>\n",
       "<ellipse fill=\"none\" stroke=\"black\" cx=\"605.25\" cy=\"-100.5\" rx=\"27\" ry=\"18\"/>\n",
       "<text text-anchor=\"middle\" x=\"605.25\" y=\"-95.45\" font-family=\"Times,serif\" font-size=\"14.00\">+</text>\n",
       "</g>\n",
       "<!-- 140492128915184&#45;&gt;140492128914904+ -->\n",
       "<g id=\"edge10\" class=\"edge\">\n",
       "<title>140492128915184&#45;&gt;140492128914904+</title>\n",
       "<path fill=\"none\" stroke=\"black\" d=\"M542.35,-110.69C551.12,-109.24 559.54,-107.86 567.19,-106.6\"/>\n",
       "<polygon fill=\"black\" stroke=\"black\" points=\"567.72,-110.06 577.02,-104.98 566.58,-103.15 567.72,-110.06\"/>\n",
       "</g>\n",
       "<!-- 140492128915184* -->\n",
       "<g id=\"node7\" class=\"node\">\n",
       "<title>140492128915184*</title>\n",
       "<ellipse fill=\"none\" stroke=\"black\" cx=\"261\" cy=\"-128.5\" rx=\"27\" ry=\"18\"/>\n",
       "<text text-anchor=\"middle\" x=\"261\" y=\"-123.45\" font-family=\"Times,serif\" font-size=\"14.00\">*</text>\n",
       "</g>\n",
       "<!-- 140492128915184*&#45;&gt;140492128915184 -->\n",
       "<g id=\"edge3\" class=\"edge\">\n",
       "<title>140492128915184*&#45;&gt;140492128915184</title>\n",
       "<path fill=\"none\" stroke=\"black\" d=\"M288.21,-128.5C295.29,-128.5 303.43,-128.5 312.17,-128.5\"/>\n",
       "<polygon fill=\"black\" stroke=\"black\" points=\"312.01,-132 322.01,-128.5 312.01,-125 312.01,-132\"/>\n",
       "</g>\n",
       "<!-- 140492128915296 -->\n",
       "<g id=\"node8\" class=\"node\">\n",
       "<title>140492128915296</title>\n",
       "<polygon fill=\"none\" stroke=\"black\" points=\"0,-165.5 0,-201.5 198,-201.5 198,-165.5 0,-165.5\"/>\n",
       "<text text-anchor=\"middle\" x=\"16.25\" y=\"-178.7\" font-family=\"Times,serif\" font-size=\"14.00\">w1</text>\n",
       "<polyline fill=\"none\" stroke=\"black\" points=\"32.5,-166 32.5,-201.5\"/>\n",
       "<text text-anchor=\"middle\" x=\"74.62\" y=\"-178.7\" font-family=\"Times,serif\" font-size=\"14.00\">data &#45;3.0000</text>\n",
       "<polyline fill=\"none\" stroke=\"black\" points=\"116.75,-166 116.75,-201.5\"/>\n",
       "<text text-anchor=\"middle\" x=\"157.38\" y=\"-178.7\" font-family=\"Times,serif\" font-size=\"14.00\">grad 1.0000</text>\n",
       "</g>\n",
       "<!-- 140492128915296&#45;&gt;140492128915184* -->\n",
       "<g id=\"edge9\" class=\"edge\">\n",
       "<title>140492128915296&#45;&gt;140492128915184*</title>\n",
       "<path fill=\"none\" stroke=\"black\" d=\"M172.12,-165.01C180.9,-162.35 189.7,-159.5 198,-156.5 208.09,-152.86 218.82,-148.27 228.47,-143.88\"/>\n",
       "<polygon fill=\"black\" stroke=\"black\" points=\"229.86,-147.09 237.45,-139.69 226.9,-140.75 229.86,-147.09\"/>\n",
       "</g>\n",
       "<!-- 140492128914288 -->\n",
       "<g id=\"node9\" class=\"node\">\n",
       "<title>140492128914288</title>\n",
       "<polygon fill=\"none\" stroke=\"black\" points=\"1.5,-110.5 1.5,-146.5 196.5,-146.5 196.5,-110.5 1.5,-110.5\"/>\n",
       "<text text-anchor=\"middle\" x=\"16.25\" y=\"-123.7\" font-family=\"Times,serif\" font-size=\"14.00\">x1</text>\n",
       "<polyline fill=\"none\" stroke=\"black\" points=\"31,-111 31,-146.5\"/>\n",
       "<text text-anchor=\"middle\" x=\"70.88\" y=\"-123.7\" font-family=\"Times,serif\" font-size=\"14.00\">data 2.0000</text>\n",
       "<polyline fill=\"none\" stroke=\"black\" points=\"110.75,-111 110.75,-146.5\"/>\n",
       "<text text-anchor=\"middle\" x=\"153.62\" y=\"-123.7\" font-family=\"Times,serif\" font-size=\"14.00\">grad &#45;1.5000</text>\n",
       "</g>\n",
       "<!-- 140492128914288&#45;&gt;140492128915184* -->\n",
       "<g id=\"edge12\" class=\"edge\">\n",
       "<title>140492128914288&#45;&gt;140492128915184*</title>\n",
       "<path fill=\"none\" stroke=\"black\" d=\"M196.76,-128.5C205.77,-128.5 214.47,-128.5 222.4,-128.5\"/>\n",
       "<polygon fill=\"black\" stroke=\"black\" points=\"222.25,-132 232.25,-128.5 222.25,-125 222.25,-132\"/>\n",
       "</g>\n",
       "<!-- 140492128915352 -->\n",
       "<g id=\"node10\" class=\"node\">\n",
       "<title>140492128915352</title>\n",
       "<polygon fill=\"none\" stroke=\"black\" points=\"697.12,-137.5 697.12,-173.5 880.88,-173.5 880.88,-137.5 697.12,-137.5\"/>\n",
       "<text text-anchor=\"middle\" x=\"708.5\" y=\"-150.7\" font-family=\"Times,serif\" font-size=\"14.00\">b</text>\n",
       "<polyline fill=\"none\" stroke=\"black\" points=\"719.88,-138 719.88,-173.5\"/>\n",
       "<text text-anchor=\"middle\" x=\"759.75\" y=\"-150.7\" font-family=\"Times,serif\" font-size=\"14.00\">data 6.8814</text>\n",
       "<polyline fill=\"none\" stroke=\"black\" points=\"799.62,-138 799.62,-173.5\"/>\n",
       "<text text-anchor=\"middle\" x=\"840.25\" y=\"-150.7\" font-family=\"Times,serif\" font-size=\"14.00\">grad 0.5000</text>\n",
       "</g>\n",
       "<!-- 140492128915352&#45;&gt;140492128915072+ -->\n",
       "<g id=\"edge13\" class=\"edge\">\n",
       "<title>140492128915352&#45;&gt;140492128915072+</title>\n",
       "<path fill=\"none\" stroke=\"black\" d=\"M881.14,-141.46C900.2,-138.52 919.24,-135.59 934.91,-133.18\"/>\n",
       "<polygon fill=\"black\" stroke=\"black\" points=\"935.34,-136.65 944.69,-131.67 934.27,-129.73 935.34,-136.65\"/>\n",
       "</g>\n",
       "<!-- 140492128914848 -->\n",
       "<g id=\"node11\" class=\"node\">\n",
       "<title>140492128914848</title>\n",
       "<polygon fill=\"none\" stroke=\"black\" points=\"2.25,-0.5 2.25,-36.5 195.75,-36.5 195.75,-0.5 2.25,-0.5\"/>\n",
       "<text text-anchor=\"middle\" x=\"18.5\" y=\"-13.7\" font-family=\"Times,serif\" font-size=\"14.00\">w2</text>\n",
       "<polyline fill=\"none\" stroke=\"black\" points=\"34.75,-1 34.75,-36.5\"/>\n",
       "<text text-anchor=\"middle\" x=\"74.62\" y=\"-13.7\" font-family=\"Times,serif\" font-size=\"14.00\">data 1.0000</text>\n",
       "<polyline fill=\"none\" stroke=\"black\" points=\"114.5,-1 114.5,-36.5\"/>\n",
       "<text text-anchor=\"middle\" x=\"155.12\" y=\"-13.7\" font-family=\"Times,serif\" font-size=\"14.00\">grad 0.0000</text>\n",
       "</g>\n",
       "<!-- 140492128914848&#45;&gt;140492128915408* -->\n",
       "<g id=\"edge8\" class=\"edge\">\n",
       "<title>140492128914848&#45;&gt;140492128915408*</title>\n",
       "<path fill=\"none\" stroke=\"black\" d=\"M168.91,-36.94C178.74,-39.93 188.67,-43.15 198,-46.5 207.96,-50.07 218.58,-54.47 228.18,-58.68\"/>\n",
       "<polygon fill=\"black\" stroke=\"black\" points=\"226.54,-61.78 237.1,-62.67 229.4,-55.39 226.54,-61.78\"/>\n",
       "</g>\n",
       "<!-- 140492128914904 -->\n",
       "<g id=\"node12\" class=\"node\">\n",
       "<title>140492128914904</title>\n",
       "<polygon fill=\"none\" stroke=\"black\" points=\"668.25,-82.5 668.25,-118.5 909.75,-118.5 909.75,-82.5 668.25,-82.5\"/>\n",
       "<text text-anchor=\"middle\" x=\"706.25\" y=\"-95.7\" font-family=\"Times,serif\" font-size=\"14.00\">x1w1x2w2</text>\n",
       "<polyline fill=\"none\" stroke=\"black\" points=\"744.25,-83 744.25,-118.5\"/>\n",
       "<text text-anchor=\"middle\" x=\"786.38\" y=\"-95.7\" font-family=\"Times,serif\" font-size=\"14.00\">data &#45;6.0000</text>\n",
       "<polyline fill=\"none\" stroke=\"black\" points=\"828.5,-83 828.5,-118.5\"/>\n",
       "<text text-anchor=\"middle\" x=\"869.12\" y=\"-95.7\" font-family=\"Times,serif\" font-size=\"14.00\">grad 0.5000</text>\n",
       "</g>\n",
       "<!-- 140492128914904&#45;&gt;140492128915072+ -->\n",
       "<g id=\"edge7\" class=\"edge\">\n",
       "<title>140492128914904&#45;&gt;140492128915072+</title>\n",
       "<path fill=\"none\" stroke=\"black\" d=\"M910.22,-118.36C918.97,-119.66 927.31,-120.9 934.87,-122.02\"/>\n",
       "<polygon fill=\"black\" stroke=\"black\" points=\"934.16,-125.45 944.56,-123.46 935.18,-118.53 934.16,-125.45\"/>\n",
       "</g>\n",
       "<!-- 140492128914904+&#45;&gt;140492128914904 -->\n",
       "<g id=\"edge4\" class=\"edge\">\n",
       "<title>140492128914904+&#45;&gt;140492128914904</title>\n",
       "<path fill=\"none\" stroke=\"black\" d=\"M632.68,-100.5C639.74,-100.5 647.87,-100.5 656.63,-100.5\"/>\n",
       "<polygon fill=\"black\" stroke=\"black\" points=\"656.52,-104 666.52,-100.5 656.52,-97 656.52,-104\"/>\n",
       "</g>\n",
       "<!-- 140492128915408 -->\n",
       "<g id=\"node14\" class=\"node\">\n",
       "<title>140492128915408</title>\n",
       "<polygon fill=\"none\" stroke=\"black\" points=\"326.25,-55.5 326.25,-91.5 540,-91.5 540,-55.5 326.25,-55.5\"/>\n",
       "<text text-anchor=\"middle\" x=\"352.62\" y=\"-68.7\" font-family=\"Times,serif\" font-size=\"14.00\">x2*w2</text>\n",
       "<polyline fill=\"none\" stroke=\"black\" points=\"379,-56 379,-91.5\"/>\n",
       "<text text-anchor=\"middle\" x=\"418.88\" y=\"-68.7\" font-family=\"Times,serif\" font-size=\"14.00\">data 0.0000</text>\n",
       "<polyline fill=\"none\" stroke=\"black\" points=\"458.75,-56 458.75,-91.5\"/>\n",
       "<text text-anchor=\"middle\" x=\"499.38\" y=\"-68.7\" font-family=\"Times,serif\" font-size=\"14.00\">grad 0.5000</text>\n",
       "</g>\n",
       "<!-- 140492128915408&#45;&gt;140492128914904+ -->\n",
       "<g id=\"edge6\" class=\"edge\">\n",
       "<title>140492128915408&#45;&gt;140492128914904+</title>\n",
       "<path fill=\"none\" stroke=\"black\" d=\"M540.42,-90.37C549.89,-91.87 559,-93.32 567.21,-94.62\"/>\n",
       "<polygon fill=\"black\" stroke=\"black\" points=\"566.63,-98.07 577.05,-96.18 567.72,-91.16 566.63,-98.07\"/>\n",
       "</g>\n",
       "<!-- 140492128915408*&#45;&gt;140492128915408 -->\n",
       "<g id=\"edge5\" class=\"edge\">\n",
       "<title>140492128915408*&#45;&gt;140492128915408</title>\n",
       "<path fill=\"none\" stroke=\"black\" d=\"M288.21,-73.5C296,-73.5 305.08,-73.5 314.82,-73.5\"/>\n",
       "<polygon fill=\"black\" stroke=\"black\" points=\"314.55,-77 324.55,-73.5 314.55,-70 314.55,-77\"/>\n",
       "</g>\n",
       "</g>\n",
       "</svg>\n"
      ],
      "text/plain": [
       "<graphviz.graphs.Digraph at 0x7fc6e0c010f0>"
      ]
     },
     "execution_count": 60,
     "metadata": {},
     "output_type": "execute_result"
    }
   ],
   "source": [
    "draw_dot(o)"
   ]
  },
  {
   "cell_type": "markdown",
   "metadata": {},
   "source": []
  }
 ],
 "metadata": {
  "kernelspec": {
   "display_name": "Python 3",
   "language": "python",
   "name": "python3"
  },
  "language_info": {
   "codemirror_mode": {
    "name": "ipython",
    "version": 3
   },
   "file_extension": ".py",
   "mimetype": "text/x-python",
   "name": "python",
   "nbconvert_exporter": "python",
   "pygments_lexer": "ipython3",
   "version": "3.6.8"
  }
 },
 "nbformat": 4,
 "nbformat_minor": 2
}
